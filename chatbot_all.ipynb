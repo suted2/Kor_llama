{
 "cells": [
  {
   "cell_type": "markdown",
   "metadata": {},
   "source": [
    "#### ChatBot 을 통한 도메인에 맞는 양식으로 finetuning 해서 예측하기"
   ]
  },
  {
   "cell_type": "code",
   "execution_count": 1,
   "metadata": {},
   "outputs": [],
   "source": [
    "import pandas as pd"
   ]
  },
  {
   "cell_type": "code",
   "execution_count": 2,
   "metadata": {},
   "outputs": [],
   "source": [
    "train = pd.read_csv('train.csv')"
   ]
  },
  {
   "cell_type": "code",
   "execution_count": 3,
   "metadata": {},
   "outputs": [
    {
     "data": {
      "text/html": [
       "<div>\n",
       "<style scoped>\n",
       "    .dataframe tbody tr th:only-of-type {\n",
       "        vertical-align: middle;\n",
       "    }\n",
       "\n",
       "    .dataframe tbody tr th {\n",
       "        vertical-align: top;\n",
       "    }\n",
       "\n",
       "    .dataframe thead th {\n",
       "        text-align: right;\n",
       "    }\n",
       "</style>\n",
       "<table border=\"1\" class=\"dataframe\">\n",
       "  <thead>\n",
       "    <tr style=\"text-align: right;\">\n",
       "      <th></th>\n",
       "      <th>ID</th>\n",
       "      <th>대출금액</th>\n",
       "      <th>대출기간</th>\n",
       "      <th>근로기간</th>\n",
       "      <th>주택소유상태</th>\n",
       "      <th>연간소득</th>\n",
       "      <th>부채_대비_소득_비율</th>\n",
       "      <th>총계좌수</th>\n",
       "      <th>대출목적</th>\n",
       "      <th>최근_2년간_연체_횟수</th>\n",
       "      <th>총상환원금</th>\n",
       "      <th>총상환이자</th>\n",
       "      <th>총연체금액</th>\n",
       "      <th>연체계좌수</th>\n",
       "      <th>대출등급</th>\n",
       "    </tr>\n",
       "  </thead>\n",
       "  <tbody>\n",
       "    <tr>\n",
       "      <th>0</th>\n",
       "      <td>TRAIN_00000</td>\n",
       "      <td>12480000</td>\n",
       "      <td>36 months</td>\n",
       "      <td>6 years</td>\n",
       "      <td>RENT</td>\n",
       "      <td>72000000</td>\n",
       "      <td>18.90</td>\n",
       "      <td>15</td>\n",
       "      <td>부채 통합</td>\n",
       "      <td>0</td>\n",
       "      <td>0</td>\n",
       "      <td>0.0</td>\n",
       "      <td>0.0</td>\n",
       "      <td>0.0</td>\n",
       "      <td>C</td>\n",
       "    </tr>\n",
       "    <tr>\n",
       "      <th>1</th>\n",
       "      <td>TRAIN_00001</td>\n",
       "      <td>14400000</td>\n",
       "      <td>60 months</td>\n",
       "      <td>10+ years</td>\n",
       "      <td>MORTGAGE</td>\n",
       "      <td>130800000</td>\n",
       "      <td>22.33</td>\n",
       "      <td>21</td>\n",
       "      <td>주택 개선</td>\n",
       "      <td>0</td>\n",
       "      <td>373572</td>\n",
       "      <td>234060.0</td>\n",
       "      <td>0.0</td>\n",
       "      <td>0.0</td>\n",
       "      <td>B</td>\n",
       "    </tr>\n",
       "    <tr>\n",
       "      <th>2</th>\n",
       "      <td>TRAIN_00002</td>\n",
       "      <td>12000000</td>\n",
       "      <td>36 months</td>\n",
       "      <td>5 years</td>\n",
       "      <td>MORTGAGE</td>\n",
       "      <td>96000000</td>\n",
       "      <td>8.60</td>\n",
       "      <td>14</td>\n",
       "      <td>부채 통합</td>\n",
       "      <td>0</td>\n",
       "      <td>928644</td>\n",
       "      <td>151944.0</td>\n",
       "      <td>0.0</td>\n",
       "      <td>0.0</td>\n",
       "      <td>A</td>\n",
       "    </tr>\n",
       "    <tr>\n",
       "      <th>3</th>\n",
       "      <td>TRAIN_00003</td>\n",
       "      <td>14400000</td>\n",
       "      <td>36 months</td>\n",
       "      <td>8 years</td>\n",
       "      <td>MORTGAGE</td>\n",
       "      <td>132000000</td>\n",
       "      <td>15.09</td>\n",
       "      <td>15</td>\n",
       "      <td>부채 통합</td>\n",
       "      <td>0</td>\n",
       "      <td>325824</td>\n",
       "      <td>153108.0</td>\n",
       "      <td>0.0</td>\n",
       "      <td>0.0</td>\n",
       "      <td>C</td>\n",
       "    </tr>\n",
       "    <tr>\n",
       "      <th>4</th>\n",
       "      <td>TRAIN_00004</td>\n",
       "      <td>18000000</td>\n",
       "      <td>60 months</td>\n",
       "      <td>Unknown</td>\n",
       "      <td>RENT</td>\n",
       "      <td>71736000</td>\n",
       "      <td>25.39</td>\n",
       "      <td>19</td>\n",
       "      <td>주요 구매</td>\n",
       "      <td>0</td>\n",
       "      <td>228540</td>\n",
       "      <td>148956.0</td>\n",
       "      <td>0.0</td>\n",
       "      <td>0.0</td>\n",
       "      <td>B</td>\n",
       "    </tr>\n",
       "    <tr>\n",
       "      <th>...</th>\n",
       "      <td>...</td>\n",
       "      <td>...</td>\n",
       "      <td>...</td>\n",
       "      <td>...</td>\n",
       "      <td>...</td>\n",
       "      <td>...</td>\n",
       "      <td>...</td>\n",
       "      <td>...</td>\n",
       "      <td>...</td>\n",
       "      <td>...</td>\n",
       "      <td>...</td>\n",
       "      <td>...</td>\n",
       "      <td>...</td>\n",
       "      <td>...</td>\n",
       "      <td>...</td>\n",
       "    </tr>\n",
       "    <tr>\n",
       "      <th>96289</th>\n",
       "      <td>TRAIN_96289</td>\n",
       "      <td>14400000</td>\n",
       "      <td>36 months</td>\n",
       "      <td>10+ years</td>\n",
       "      <td>MORTGAGE</td>\n",
       "      <td>210000000</td>\n",
       "      <td>9.33</td>\n",
       "      <td>33</td>\n",
       "      <td>신용 카드</td>\n",
       "      <td>0</td>\n",
       "      <td>974580</td>\n",
       "      <td>492168.0</td>\n",
       "      <td>0.0</td>\n",
       "      <td>0.0</td>\n",
       "      <td>C</td>\n",
       "    </tr>\n",
       "    <tr>\n",
       "      <th>96290</th>\n",
       "      <td>TRAIN_96290</td>\n",
       "      <td>28800000</td>\n",
       "      <td>60 months</td>\n",
       "      <td>10+ years</td>\n",
       "      <td>MORTGAGE</td>\n",
       "      <td>132000000</td>\n",
       "      <td>5.16</td>\n",
       "      <td>25</td>\n",
       "      <td>주택 개선</td>\n",
       "      <td>0</td>\n",
       "      <td>583728</td>\n",
       "      <td>855084.0</td>\n",
       "      <td>0.0</td>\n",
       "      <td>0.0</td>\n",
       "      <td>E</td>\n",
       "    </tr>\n",
       "    <tr>\n",
       "      <th>96291</th>\n",
       "      <td>TRAIN_96291</td>\n",
       "      <td>14400000</td>\n",
       "      <td>36 months</td>\n",
       "      <td>1 year</td>\n",
       "      <td>MORTGAGE</td>\n",
       "      <td>84000000</td>\n",
       "      <td>11.24</td>\n",
       "      <td>22</td>\n",
       "      <td>신용 카드</td>\n",
       "      <td>0</td>\n",
       "      <td>1489128</td>\n",
       "      <td>241236.0</td>\n",
       "      <td>0.0</td>\n",
       "      <td>0.0</td>\n",
       "      <td>A</td>\n",
       "    </tr>\n",
       "    <tr>\n",
       "      <th>96292</th>\n",
       "      <td>TRAIN_96292</td>\n",
       "      <td>15600000</td>\n",
       "      <td>36 months</td>\n",
       "      <td>5 years</td>\n",
       "      <td>MORTGAGE</td>\n",
       "      <td>66330000</td>\n",
       "      <td>17.30</td>\n",
       "      <td>21</td>\n",
       "      <td>부채 통합</td>\n",
       "      <td>2</td>\n",
       "      <td>1378368</td>\n",
       "      <td>818076.0</td>\n",
       "      <td>0.0</td>\n",
       "      <td>0.0</td>\n",
       "      <td>D</td>\n",
       "    </tr>\n",
       "    <tr>\n",
       "      <th>96293</th>\n",
       "      <td>TRAIN_96293</td>\n",
       "      <td>8640000</td>\n",
       "      <td>36 months</td>\n",
       "      <td>10+ years</td>\n",
       "      <td>RENT</td>\n",
       "      <td>50400000</td>\n",
       "      <td>11.80</td>\n",
       "      <td>14</td>\n",
       "      <td>신용 카드</td>\n",
       "      <td>0</td>\n",
       "      <td>596148</td>\n",
       "      <td>274956.0</td>\n",
       "      <td>0.0</td>\n",
       "      <td>0.0</td>\n",
       "      <td>C</td>\n",
       "    </tr>\n",
       "  </tbody>\n",
       "</table>\n",
       "<p>96294 rows × 15 columns</p>\n",
       "</div>"
      ],
      "text/plain": [
       "                ID      대출금액        대출기간       근로기간    주택소유상태       연간소득  \\\n",
       "0      TRAIN_00000  12480000   36 months    6 years      RENT   72000000   \n",
       "1      TRAIN_00001  14400000   60 months  10+ years  MORTGAGE  130800000   \n",
       "2      TRAIN_00002  12000000   36 months    5 years  MORTGAGE   96000000   \n",
       "3      TRAIN_00003  14400000   36 months    8 years  MORTGAGE  132000000   \n",
       "4      TRAIN_00004  18000000   60 months    Unknown      RENT   71736000   \n",
       "...            ...       ...         ...        ...       ...        ...   \n",
       "96289  TRAIN_96289  14400000   36 months  10+ years  MORTGAGE  210000000   \n",
       "96290  TRAIN_96290  28800000   60 months  10+ years  MORTGAGE  132000000   \n",
       "96291  TRAIN_96291  14400000   36 months     1 year  MORTGAGE   84000000   \n",
       "96292  TRAIN_96292  15600000   36 months    5 years  MORTGAGE   66330000   \n",
       "96293  TRAIN_96293   8640000   36 months  10+ years      RENT   50400000   \n",
       "\n",
       "       부채_대비_소득_비율  총계좌수   대출목적  최근_2년간_연체_횟수    총상환원금     총상환이자  총연체금액  \\\n",
       "0            18.90    15  부채 통합             0        0       0.0    0.0   \n",
       "1            22.33    21  주택 개선             0   373572  234060.0    0.0   \n",
       "2             8.60    14  부채 통합             0   928644  151944.0    0.0   \n",
       "3            15.09    15  부채 통합             0   325824  153108.0    0.0   \n",
       "4            25.39    19  주요 구매             0   228540  148956.0    0.0   \n",
       "...            ...   ...    ...           ...      ...       ...    ...   \n",
       "96289         9.33    33  신용 카드             0   974580  492168.0    0.0   \n",
       "96290         5.16    25  주택 개선             0   583728  855084.0    0.0   \n",
       "96291        11.24    22  신용 카드             0  1489128  241236.0    0.0   \n",
       "96292        17.30    21  부채 통합             2  1378368  818076.0    0.0   \n",
       "96293        11.80    14  신용 카드             0   596148  274956.0    0.0   \n",
       "\n",
       "       연체계좌수 대출등급  \n",
       "0        0.0    C  \n",
       "1        0.0    B  \n",
       "2        0.0    A  \n",
       "3        0.0    C  \n",
       "4        0.0    B  \n",
       "...      ...  ...  \n",
       "96289    0.0    C  \n",
       "96290    0.0    E  \n",
       "96291    0.0    A  \n",
       "96292    0.0    D  \n",
       "96293    0.0    C  \n",
       "\n",
       "[96294 rows x 15 columns]"
      ]
     },
     "execution_count": 3,
     "metadata": {},
     "output_type": "execute_result"
    }
   ],
   "source": [
    "train"
   ]
  },
  {
   "cell_type": "code",
   "execution_count": 4,
   "metadata": {},
   "outputs": [
    {
     "data": {
      "text/plain": [
       "7"
      ]
     },
     "execution_count": 4,
     "metadata": {},
     "output_type": "execute_result"
    }
   ],
   "source": [
    "train.대출등급.nunique()"
   ]
  },
  {
   "cell_type": "code",
   "execution_count": 5,
   "metadata": {},
   "outputs": [
    {
     "data": {
      "text/html": [
       "<div>\n",
       "<style scoped>\n",
       "    .dataframe tbody tr th:only-of-type {\n",
       "        vertical-align: middle;\n",
       "    }\n",
       "\n",
       "    .dataframe tbody tr th {\n",
       "        vertical-align: top;\n",
       "    }\n",
       "\n",
       "    .dataframe thead th {\n",
       "        text-align: right;\n",
       "    }\n",
       "</style>\n",
       "<table border=\"1\" class=\"dataframe\">\n",
       "  <thead>\n",
       "    <tr style=\"text-align: right;\">\n",
       "      <th></th>\n",
       "      <th>ID</th>\n",
       "      <th>대출금액</th>\n",
       "      <th>대출기간</th>\n",
       "      <th>근로기간</th>\n",
       "      <th>주택소유상태</th>\n",
       "      <th>연간소득</th>\n",
       "      <th>부채_대비_소득_비율</th>\n",
       "      <th>총계좌수</th>\n",
       "      <th>대출목적</th>\n",
       "      <th>최근_2년간_연체_횟수</th>\n",
       "      <th>총상환원금</th>\n",
       "      <th>총상환이자</th>\n",
       "      <th>총연체금액</th>\n",
       "      <th>연체계좌수</th>\n",
       "    </tr>\n",
       "  </thead>\n",
       "  <tbody>\n",
       "    <tr>\n",
       "      <th>0</th>\n",
       "      <td>TEST_00000</td>\n",
       "      <td>16800000</td>\n",
       "      <td>36 months</td>\n",
       "      <td>8 years</td>\n",
       "      <td>MORTGAGE</td>\n",
       "      <td>132000000</td>\n",
       "      <td>19.64</td>\n",
       "      <td>12</td>\n",
       "      <td>주택 개선</td>\n",
       "      <td>0</td>\n",
       "      <td>394692</td>\n",
       "      <td>146604.0</td>\n",
       "      <td>0.0</td>\n",
       "      <td>0.0</td>\n",
       "    </tr>\n",
       "    <tr>\n",
       "      <th>1</th>\n",
       "      <td>TEST_00001</td>\n",
       "      <td>8400000</td>\n",
       "      <td>36 months</td>\n",
       "      <td>5 years</td>\n",
       "      <td>RENT</td>\n",
       "      <td>89971200</td>\n",
       "      <td>15.84</td>\n",
       "      <td>25</td>\n",
       "      <td>부채 통합</td>\n",
       "      <td>0</td>\n",
       "      <td>0</td>\n",
       "      <td>0.0</td>\n",
       "      <td>0.0</td>\n",
       "      <td>0.0</td>\n",
       "    </tr>\n",
       "    <tr>\n",
       "      <th>2</th>\n",
       "      <td>TEST_00002</td>\n",
       "      <td>17280000</td>\n",
       "      <td>36 months</td>\n",
       "      <td>6 years</td>\n",
       "      <td>RENT</td>\n",
       "      <td>150000000</td>\n",
       "      <td>8.41</td>\n",
       "      <td>20</td>\n",
       "      <td>신용 카드</td>\n",
       "      <td>0</td>\n",
       "      <td>1786980</td>\n",
       "      <td>281820.0</td>\n",
       "      <td>0.0</td>\n",
       "      <td>0.0</td>\n",
       "    </tr>\n",
       "    <tr>\n",
       "      <th>3</th>\n",
       "      <td>TEST_00003</td>\n",
       "      <td>14400000</td>\n",
       "      <td>36 months</td>\n",
       "      <td>5 years</td>\n",
       "      <td>MORTGAGE</td>\n",
       "      <td>66000000</td>\n",
       "      <td>13.72</td>\n",
       "      <td>30</td>\n",
       "      <td>신용 카드</td>\n",
       "      <td>1</td>\n",
       "      <td>669024</td>\n",
       "      <td>281724.0</td>\n",
       "      <td>0.0</td>\n",
       "      <td>0.0</td>\n",
       "    </tr>\n",
       "    <tr>\n",
       "      <th>4</th>\n",
       "      <td>TEST_00004</td>\n",
       "      <td>27600000</td>\n",
       "      <td>36 months</td>\n",
       "      <td>5 years</td>\n",
       "      <td>RENT</td>\n",
       "      <td>55200000</td>\n",
       "      <td>30.50</td>\n",
       "      <td>12</td>\n",
       "      <td>신용 카드</td>\n",
       "      <td>0</td>\n",
       "      <td>1250052</td>\n",
       "      <td>614844.0</td>\n",
       "      <td>0.0</td>\n",
       "      <td>0.0</td>\n",
       "    </tr>\n",
       "    <tr>\n",
       "      <th>...</th>\n",
       "      <td>...</td>\n",
       "      <td>...</td>\n",
       "      <td>...</td>\n",
       "      <td>...</td>\n",
       "      <td>...</td>\n",
       "      <td>...</td>\n",
       "      <td>...</td>\n",
       "      <td>...</td>\n",
       "      <td>...</td>\n",
       "      <td>...</td>\n",
       "      <td>...</td>\n",
       "      <td>...</td>\n",
       "      <td>...</td>\n",
       "      <td>...</td>\n",
       "    </tr>\n",
       "    <tr>\n",
       "      <th>64192</th>\n",
       "      <td>TEST_64192</td>\n",
       "      <td>30000000</td>\n",
       "      <td>36 months</td>\n",
       "      <td>3 years</td>\n",
       "      <td>MORTGAGE</td>\n",
       "      <td>78000000</td>\n",
       "      <td>22.08</td>\n",
       "      <td>27</td>\n",
       "      <td>부채 통합</td>\n",
       "      <td>2</td>\n",
       "      <td>1307532</td>\n",
       "      <td>763380.0</td>\n",
       "      <td>0.0</td>\n",
       "      <td>0.0</td>\n",
       "    </tr>\n",
       "    <tr>\n",
       "      <th>64193</th>\n",
       "      <td>TEST_64193</td>\n",
       "      <td>30000000</td>\n",
       "      <td>60 months</td>\n",
       "      <td>10+ years</td>\n",
       "      <td>MORTGAGE</td>\n",
       "      <td>109200000</td>\n",
       "      <td>12.06</td>\n",
       "      <td>26</td>\n",
       "      <td>부채 통합</td>\n",
       "      <td>0</td>\n",
       "      <td>960612</td>\n",
       "      <td>1245252.0</td>\n",
       "      <td>0.0</td>\n",
       "      <td>0.0</td>\n",
       "    </tr>\n",
       "    <tr>\n",
       "      <th>64194</th>\n",
       "      <td>TEST_64194</td>\n",
       "      <td>6120000</td>\n",
       "      <td>36 months</td>\n",
       "      <td>10+ years</td>\n",
       "      <td>RENT</td>\n",
       "      <td>39600000</td>\n",
       "      <td>28.80</td>\n",
       "      <td>33</td>\n",
       "      <td>부채 통합</td>\n",
       "      <td>0</td>\n",
       "      <td>131520</td>\n",
       "      <td>80880.0</td>\n",
       "      <td>0.0</td>\n",
       "      <td>0.0</td>\n",
       "    </tr>\n",
       "    <tr>\n",
       "      <th>64195</th>\n",
       "      <td>TEST_64195</td>\n",
       "      <td>11520000</td>\n",
       "      <td>36 months</td>\n",
       "      <td>10+ years</td>\n",
       "      <td>MORTGAGE</td>\n",
       "      <td>66000000</td>\n",
       "      <td>25.44</td>\n",
       "      <td>41</td>\n",
       "      <td>부채 통합</td>\n",
       "      <td>1</td>\n",
       "      <td>1339536</td>\n",
       "      <td>601872.0</td>\n",
       "      <td>0.0</td>\n",
       "      <td>0.0</td>\n",
       "    </tr>\n",
       "    <tr>\n",
       "      <th>64196</th>\n",
       "      <td>TEST_64196</td>\n",
       "      <td>6000000</td>\n",
       "      <td>36 months</td>\n",
       "      <td>9 years</td>\n",
       "      <td>RENT</td>\n",
       "      <td>180000000</td>\n",
       "      <td>9.07</td>\n",
       "      <td>10</td>\n",
       "      <td>부채 통합</td>\n",
       "      <td>0</td>\n",
       "      <td>308880</td>\n",
       "      <td>48960.0</td>\n",
       "      <td>0.0</td>\n",
       "      <td>0.0</td>\n",
       "    </tr>\n",
       "  </tbody>\n",
       "</table>\n",
       "<p>64197 rows × 14 columns</p>\n",
       "</div>"
      ],
      "text/plain": [
       "               ID      대출금액        대출기간       근로기간    주택소유상태       연간소득  \\\n",
       "0      TEST_00000  16800000   36 months    8 years  MORTGAGE  132000000   \n",
       "1      TEST_00001   8400000   36 months    5 years      RENT   89971200   \n",
       "2      TEST_00002  17280000   36 months    6 years      RENT  150000000   \n",
       "3      TEST_00003  14400000   36 months    5 years  MORTGAGE   66000000   \n",
       "4      TEST_00004  27600000   36 months    5 years      RENT   55200000   \n",
       "...           ...       ...         ...        ...       ...        ...   \n",
       "64192  TEST_64192  30000000   36 months    3 years  MORTGAGE   78000000   \n",
       "64193  TEST_64193  30000000   60 months  10+ years  MORTGAGE  109200000   \n",
       "64194  TEST_64194   6120000   36 months  10+ years      RENT   39600000   \n",
       "64195  TEST_64195  11520000   36 months  10+ years  MORTGAGE   66000000   \n",
       "64196  TEST_64196   6000000   36 months    9 years      RENT  180000000   \n",
       "\n",
       "       부채_대비_소득_비율  총계좌수   대출목적  최근_2년간_연체_횟수    총상환원금      총상환이자  총연체금액  \\\n",
       "0            19.64    12  주택 개선             0   394692   146604.0    0.0   \n",
       "1            15.84    25  부채 통합             0        0        0.0    0.0   \n",
       "2             8.41    20  신용 카드             0  1786980   281820.0    0.0   \n",
       "3            13.72    30  신용 카드             1   669024   281724.0    0.0   \n",
       "4            30.50    12  신용 카드             0  1250052   614844.0    0.0   \n",
       "...            ...   ...    ...           ...      ...        ...    ...   \n",
       "64192        22.08    27  부채 통합             2  1307532   763380.0    0.0   \n",
       "64193        12.06    26  부채 통합             0   960612  1245252.0    0.0   \n",
       "64194        28.80    33  부채 통합             0   131520    80880.0    0.0   \n",
       "64195        25.44    41  부채 통합             1  1339536   601872.0    0.0   \n",
       "64196         9.07    10  부채 통합             0   308880    48960.0    0.0   \n",
       "\n",
       "       연체계좌수  \n",
       "0        0.0  \n",
       "1        0.0  \n",
       "2        0.0  \n",
       "3        0.0  \n",
       "4        0.0  \n",
       "...      ...  \n",
       "64192    0.0  \n",
       "64193    0.0  \n",
       "64194    0.0  \n",
       "64195    0.0  \n",
       "64196    0.0  \n",
       "\n",
       "[64197 rows x 14 columns]"
      ]
     },
     "execution_count": 5,
     "metadata": {},
     "output_type": "execute_result"
    }
   ],
   "source": [
    "test = pd.read_csv('test.csv')\n",
    "test"
   ]
  },
  {
   "cell_type": "markdown",
   "metadata": {},
   "source": [
    "### 결측치 확인"
   ]
  },
  {
   "cell_type": "code",
   "execution_count": 30,
   "metadata": {},
   "outputs": [
    {
     "name": "stdout",
     "output_type": "stream",
     "text": [
      "<class 'pandas.core.frame.DataFrame'>\n",
      "RangeIndex: 96294 entries, 0 to 96293\n",
      "Data columns (total 15 columns):\n",
      " #   Column        Non-Null Count  Dtype  \n",
      "---  ------        --------------  -----  \n",
      " 0   ID            96294 non-null  object \n",
      " 1   대출금액          96294 non-null  int64  \n",
      " 2   대출기간          96294 non-null  object \n",
      " 3   근로기간          96294 non-null  object \n",
      " 4   주택소유상태        96294 non-null  object \n",
      " 5   연간소득          96294 non-null  int64  \n",
      " 6   부채_대비_소득_비율   96294 non-null  float64\n",
      " 7   총계좌수          96294 non-null  int64  \n",
      " 8   대출목적          96294 non-null  object \n",
      " 9   최근_2년간_연체_횟수  96294 non-null  int64  \n",
      " 10  총상환원금         96294 non-null  int64  \n",
      " 11  총상환이자         96294 non-null  float64\n",
      " 12  총연체금액         96294 non-null  float64\n",
      " 13  연체계좌수         96294 non-null  float64\n",
      " 14  대출등급          96294 non-null  object \n",
      "dtypes: float64(4), int64(5), object(6)\n",
      "memory usage: 11.0+ MB\n"
     ]
    }
   ],
   "source": [
    "train.info()"
   ]
  },
  {
   "cell_type": "code",
   "execution_count": 68,
   "metadata": {},
   "outputs": [
    {
     "data": {
      "text/html": [
       "<div>\n",
       "<style scoped>\n",
       "    .dataframe tbody tr th:only-of-type {\n",
       "        vertical-align: middle;\n",
       "    }\n",
       "\n",
       "    .dataframe tbody tr th {\n",
       "        vertical-align: top;\n",
       "    }\n",
       "\n",
       "    .dataframe thead th {\n",
       "        text-align: right;\n",
       "    }\n",
       "</style>\n",
       "<table border=\"1\" class=\"dataframe\">\n",
       "  <thead>\n",
       "    <tr style=\"text-align: right;\">\n",
       "      <th></th>\n",
       "      <th>ID</th>\n",
       "      <th>대출금액</th>\n",
       "      <th>대출기간</th>\n",
       "      <th>근로기간</th>\n",
       "      <th>주택소유상태</th>\n",
       "      <th>연간소득</th>\n",
       "      <th>부채_대비_소득_비율</th>\n",
       "      <th>총계좌수</th>\n",
       "      <th>대출목적</th>\n",
       "      <th>최근_2년간_연체_횟수</th>\n",
       "      <th>총상환원금</th>\n",
       "      <th>총상환이자</th>\n",
       "      <th>총연체금액</th>\n",
       "      <th>연체계좌수</th>\n",
       "      <th>대출등급</th>\n",
       "    </tr>\n",
       "  </thead>\n",
       "  <tbody>\n",
       "    <tr>\n",
       "      <th>0</th>\n",
       "      <td>TRAIN_00000</td>\n",
       "      <td>12480000</td>\n",
       "      <td>36 months</td>\n",
       "      <td>6 years</td>\n",
       "      <td>RENT</td>\n",
       "      <td>72000000</td>\n",
       "      <td>18.90</td>\n",
       "      <td>15</td>\n",
       "      <td>부채 통합</td>\n",
       "      <td>0</td>\n",
       "      <td>0</td>\n",
       "      <td>0.0</td>\n",
       "      <td>0.0</td>\n",
       "      <td>0.0</td>\n",
       "      <td>C</td>\n",
       "    </tr>\n",
       "    <tr>\n",
       "      <th>1</th>\n",
       "      <td>TRAIN_00001</td>\n",
       "      <td>14400000</td>\n",
       "      <td>60 months</td>\n",
       "      <td>10+ years</td>\n",
       "      <td>MORTGAGE</td>\n",
       "      <td>130800000</td>\n",
       "      <td>22.33</td>\n",
       "      <td>21</td>\n",
       "      <td>주택 개선</td>\n",
       "      <td>0</td>\n",
       "      <td>373572</td>\n",
       "      <td>234060.0</td>\n",
       "      <td>0.0</td>\n",
       "      <td>0.0</td>\n",
       "      <td>B</td>\n",
       "    </tr>\n",
       "    <tr>\n",
       "      <th>2</th>\n",
       "      <td>TRAIN_00002</td>\n",
       "      <td>12000000</td>\n",
       "      <td>36 months</td>\n",
       "      <td>5 years</td>\n",
       "      <td>MORTGAGE</td>\n",
       "      <td>96000000</td>\n",
       "      <td>8.60</td>\n",
       "      <td>14</td>\n",
       "      <td>부채 통합</td>\n",
       "      <td>0</td>\n",
       "      <td>928644</td>\n",
       "      <td>151944.0</td>\n",
       "      <td>0.0</td>\n",
       "      <td>0.0</td>\n",
       "      <td>A</td>\n",
       "    </tr>\n",
       "    <tr>\n",
       "      <th>3</th>\n",
       "      <td>TRAIN_00003</td>\n",
       "      <td>14400000</td>\n",
       "      <td>36 months</td>\n",
       "      <td>8 years</td>\n",
       "      <td>MORTGAGE</td>\n",
       "      <td>132000000</td>\n",
       "      <td>15.09</td>\n",
       "      <td>15</td>\n",
       "      <td>부채 통합</td>\n",
       "      <td>0</td>\n",
       "      <td>325824</td>\n",
       "      <td>153108.0</td>\n",
       "      <td>0.0</td>\n",
       "      <td>0.0</td>\n",
       "      <td>C</td>\n",
       "    </tr>\n",
       "    <tr>\n",
       "      <th>4</th>\n",
       "      <td>TRAIN_00004</td>\n",
       "      <td>18000000</td>\n",
       "      <td>60 months</td>\n",
       "      <td>Unknown</td>\n",
       "      <td>RENT</td>\n",
       "      <td>71736000</td>\n",
       "      <td>25.39</td>\n",
       "      <td>19</td>\n",
       "      <td>주요 구매</td>\n",
       "      <td>0</td>\n",
       "      <td>228540</td>\n",
       "      <td>148956.0</td>\n",
       "      <td>0.0</td>\n",
       "      <td>0.0</td>\n",
       "      <td>B</td>\n",
       "    </tr>\n",
       "    <tr>\n",
       "      <th>...</th>\n",
       "      <td>...</td>\n",
       "      <td>...</td>\n",
       "      <td>...</td>\n",
       "      <td>...</td>\n",
       "      <td>...</td>\n",
       "      <td>...</td>\n",
       "      <td>...</td>\n",
       "      <td>...</td>\n",
       "      <td>...</td>\n",
       "      <td>...</td>\n",
       "      <td>...</td>\n",
       "      <td>...</td>\n",
       "      <td>...</td>\n",
       "      <td>...</td>\n",
       "      <td>...</td>\n",
       "    </tr>\n",
       "    <tr>\n",
       "      <th>96289</th>\n",
       "      <td>TRAIN_96289</td>\n",
       "      <td>14400000</td>\n",
       "      <td>36 months</td>\n",
       "      <td>10+ years</td>\n",
       "      <td>MORTGAGE</td>\n",
       "      <td>210000000</td>\n",
       "      <td>9.33</td>\n",
       "      <td>33</td>\n",
       "      <td>신용 카드</td>\n",
       "      <td>0</td>\n",
       "      <td>974580</td>\n",
       "      <td>492168.0</td>\n",
       "      <td>0.0</td>\n",
       "      <td>0.0</td>\n",
       "      <td>C</td>\n",
       "    </tr>\n",
       "    <tr>\n",
       "      <th>96290</th>\n",
       "      <td>TRAIN_96290</td>\n",
       "      <td>28800000</td>\n",
       "      <td>60 months</td>\n",
       "      <td>10+ years</td>\n",
       "      <td>MORTGAGE</td>\n",
       "      <td>132000000</td>\n",
       "      <td>5.16</td>\n",
       "      <td>25</td>\n",
       "      <td>주택 개선</td>\n",
       "      <td>0</td>\n",
       "      <td>583728</td>\n",
       "      <td>855084.0</td>\n",
       "      <td>0.0</td>\n",
       "      <td>0.0</td>\n",
       "      <td>E</td>\n",
       "    </tr>\n",
       "    <tr>\n",
       "      <th>96291</th>\n",
       "      <td>TRAIN_96291</td>\n",
       "      <td>14400000</td>\n",
       "      <td>36 months</td>\n",
       "      <td>1 year</td>\n",
       "      <td>MORTGAGE</td>\n",
       "      <td>84000000</td>\n",
       "      <td>11.24</td>\n",
       "      <td>22</td>\n",
       "      <td>신용 카드</td>\n",
       "      <td>0</td>\n",
       "      <td>1489128</td>\n",
       "      <td>241236.0</td>\n",
       "      <td>0.0</td>\n",
       "      <td>0.0</td>\n",
       "      <td>A</td>\n",
       "    </tr>\n",
       "    <tr>\n",
       "      <th>96292</th>\n",
       "      <td>TRAIN_96292</td>\n",
       "      <td>15600000</td>\n",
       "      <td>36 months</td>\n",
       "      <td>5 years</td>\n",
       "      <td>MORTGAGE</td>\n",
       "      <td>66330000</td>\n",
       "      <td>17.30</td>\n",
       "      <td>21</td>\n",
       "      <td>부채 통합</td>\n",
       "      <td>2</td>\n",
       "      <td>1378368</td>\n",
       "      <td>818076.0</td>\n",
       "      <td>0.0</td>\n",
       "      <td>0.0</td>\n",
       "      <td>D</td>\n",
       "    </tr>\n",
       "    <tr>\n",
       "      <th>96293</th>\n",
       "      <td>TRAIN_96293</td>\n",
       "      <td>8640000</td>\n",
       "      <td>36 months</td>\n",
       "      <td>10+ years</td>\n",
       "      <td>RENT</td>\n",
       "      <td>50400000</td>\n",
       "      <td>11.80</td>\n",
       "      <td>14</td>\n",
       "      <td>신용 카드</td>\n",
       "      <td>0</td>\n",
       "      <td>596148</td>\n",
       "      <td>274956.0</td>\n",
       "      <td>0.0</td>\n",
       "      <td>0.0</td>\n",
       "      <td>C</td>\n",
       "    </tr>\n",
       "  </tbody>\n",
       "</table>\n",
       "<p>96294 rows × 15 columns</p>\n",
       "</div>"
      ],
      "text/plain": [
       "                ID      대출금액        대출기간       근로기간    주택소유상태       연간소득  \\\n",
       "0      TRAIN_00000  12480000   36 months    6 years      RENT   72000000   \n",
       "1      TRAIN_00001  14400000   60 months  10+ years  MORTGAGE  130800000   \n",
       "2      TRAIN_00002  12000000   36 months    5 years  MORTGAGE   96000000   \n",
       "3      TRAIN_00003  14400000   36 months    8 years  MORTGAGE  132000000   \n",
       "4      TRAIN_00004  18000000   60 months    Unknown      RENT   71736000   \n",
       "...            ...       ...         ...        ...       ...        ...   \n",
       "96289  TRAIN_96289  14400000   36 months  10+ years  MORTGAGE  210000000   \n",
       "96290  TRAIN_96290  28800000   60 months  10+ years  MORTGAGE  132000000   \n",
       "96291  TRAIN_96291  14400000   36 months     1 year  MORTGAGE   84000000   \n",
       "96292  TRAIN_96292  15600000   36 months    5 years  MORTGAGE   66330000   \n",
       "96293  TRAIN_96293   8640000   36 months  10+ years      RENT   50400000   \n",
       "\n",
       "       부채_대비_소득_비율  총계좌수   대출목적  최근_2년간_연체_횟수    총상환원금     총상환이자  총연체금액  \\\n",
       "0            18.90    15  부채 통합             0        0       0.0    0.0   \n",
       "1            22.33    21  주택 개선             0   373572  234060.0    0.0   \n",
       "2             8.60    14  부채 통합             0   928644  151944.0    0.0   \n",
       "3            15.09    15  부채 통합             0   325824  153108.0    0.0   \n",
       "4            25.39    19  주요 구매             0   228540  148956.0    0.0   \n",
       "...            ...   ...    ...           ...      ...       ...    ...   \n",
       "96289         9.33    33  신용 카드             0   974580  492168.0    0.0   \n",
       "96290         5.16    25  주택 개선             0   583728  855084.0    0.0   \n",
       "96291        11.24    22  신용 카드             0  1489128  241236.0    0.0   \n",
       "96292        17.30    21  부채 통합             2  1378368  818076.0    0.0   \n",
       "96293        11.80    14  신용 카드             0   596148  274956.0    0.0   \n",
       "\n",
       "       연체계좌수 대출등급  \n",
       "0        0.0    C  \n",
       "1        0.0    B  \n",
       "2        0.0    A  \n",
       "3        0.0    C  \n",
       "4        0.0    B  \n",
       "...      ...  ...  \n",
       "96289    0.0    C  \n",
       "96290    0.0    E  \n",
       "96291    0.0    A  \n",
       "96292    0.0    D  \n",
       "96293    0.0    C  \n",
       "\n",
       "[96294 rows x 15 columns]"
      ]
     },
     "execution_count": 68,
     "metadata": {},
     "output_type": "execute_result"
    }
   ],
   "source": [
    "train"
   ]
  },
  {
   "cell_type": "code",
   "execution_count": 8,
   "metadata": {},
   "outputs": [
    {
     "name": "stderr",
     "output_type": "stream",
     "text": [
      "/tmp/ipykernel_1800/4247542419.py:1: SettingWithCopyWarning: \n",
      "A value is trying to be set on a copy of a slice from a DataFrame.\n",
      "Try using .loc[row_indexer,col_indexer] = value instead\n",
      "\n",
      "See the caveats in the documentation: https://pandas.pydata.org/pandas-docs/stable/user_guide/indexing.html#returning-a-view-versus-a-copy\n",
      "  train['대출기간'] = train['대출기간'].apply(lambda x: int(x.split(' ')[1]))\n"
     ]
    }
   ],
   "source": [
    "train['대출기간'] = train['대출기간'].apply(lambda x: int(x.split(' ')[1]))"
   ]
  },
  {
   "cell_type": "code",
   "execution_count": 9,
   "metadata": {},
   "outputs": [
    {
     "name": "stderr",
     "output_type": "stream",
     "text": [
      "/tmp/ipykernel_1800/293306862.py:1: SettingWithCopyWarning: \n",
      "A value is trying to be set on a copy of a slice from a DataFrame.\n",
      "Try using .loc[row_indexer,col_indexer] = value instead\n",
      "\n",
      "See the caveats in the documentation: https://pandas.pydata.org/pandas-docs/stable/user_guide/indexing.html#returning-a-view-versus-a-copy\n",
      "  train['근로기간'] = train['근로기간'].apply(lambda x: x.replace('+', ' '))\n",
      "/tmp/ipykernel_1800/293306862.py:2: SettingWithCopyWarning: \n",
      "A value is trying to be set on a copy of a slice from a DataFrame.\n",
      "Try using .loc[row_indexer,col_indexer] = value instead\n",
      "\n",
      "See the caveats in the documentation: https://pandas.pydata.org/pandas-docs/stable/user_guide/indexing.html#returning-a-view-versus-a-copy\n",
      "  train['근로기간'] = train['근로기간'].apply(lambda x: x.replace('<', ''))\n",
      "/tmp/ipykernel_1800/293306862.py:3: SettingWithCopyWarning: \n",
      "A value is trying to be set on a copy of a slice from a DataFrame.\n",
      "Try using .loc[row_indexer,col_indexer] = value instead\n",
      "\n",
      "See the caveats in the documentation: https://pandas.pydata.org/pandas-docs/stable/user_guide/indexing.html#returning-a-view-versus-a-copy\n",
      "  train['근로기간'] = train['근로기간'].apply(lambda x: x.replace('>', ''))\n",
      "/tmp/ipykernel_1800/293306862.py:4: SettingWithCopyWarning: \n",
      "A value is trying to be set on a copy of a slice from a DataFrame.\n",
      "Try using .loc[row_indexer,col_indexer] = value instead\n",
      "\n",
      "See the caveats in the documentation: https://pandas.pydata.org/pandas-docs/stable/user_guide/indexing.html#returning-a-view-versus-a-copy\n",
      "  train['근로기간'] = train['근로기간'].apply(lambda x: x.replace('Unknown', '0 years'))\n",
      "/tmp/ipykernel_1800/293306862.py:5: SettingWithCopyWarning: \n",
      "A value is trying to be set on a copy of a slice from a DataFrame.\n",
      "Try using .loc[row_indexer,col_indexer] = value instead\n",
      "\n",
      "See the caveats in the documentation: https://pandas.pydata.org/pandas-docs/stable/user_guide/indexing.html#returning-a-view-versus-a-copy\n",
      "  train['근로기간'] = train['근로기간'].apply(lambda x: x.replace('years', 'year'))\n",
      "/tmp/ipykernel_1800/293306862.py:6: SettingWithCopyWarning: \n",
      "A value is trying to be set on a copy of a slice from a DataFrame.\n",
      "Try using .loc[row_indexer,col_indexer] = value instead\n",
      "\n",
      "See the caveats in the documentation: https://pandas.pydata.org/pandas-docs/stable/user_guide/indexing.html#returning-a-view-versus-a-copy\n",
      "  train['근로기간'] = train['근로기간'].apply(lambda x: int(x.split('year')[0]))\n"
     ]
    }
   ],
   "source": [
    "train['근로기간'] = train['근로기간'].apply(lambda x: x.replace('+', ' '))\n",
    "train['근로기간'] = train['근로기간'].apply(lambda x: x.replace('<', ''))\n",
    "train['근로기간'] = train['근로기간'].apply(lambda x: x.replace('>', ''))\n",
    "train['근로기간'] = train['근로기간'].apply(lambda x: x.replace('Unknown', '0 years'))\n",
    "train['근로기간'] = train['근로기간'].apply(lambda x: x.replace('years', 'year'))\n",
    "train['근로기간'] = train['근로기간'].apply(lambda x: int(x.split('year')[0]))\n"
   ]
  },
  {
   "cell_type": "code",
   "execution_count": 10,
   "metadata": {},
   "outputs": [
    {
     "name": "stderr",
     "output_type": "stream",
     "text": [
      "/tmp/ipykernel_1800/3457848075.py:1: SettingWithCopyWarning: \n",
      "A value is trying to be set on a copy of a slice from a DataFrame.\n",
      "Try using .loc[row_indexer,col_indexer] = value instead\n",
      "\n",
      "See the caveats in the documentation: https://pandas.pydata.org/pandas-docs/stable/user_guide/indexing.html#returning-a-view-versus-a-copy\n",
      "  train['대출목적'] = train['대출목적'].apply(lambda x: x.replace('부채 통합', 'debt consolidation'))\n",
      "/tmp/ipykernel_1800/3457848075.py:2: SettingWithCopyWarning: \n",
      "A value is trying to be set on a copy of a slice from a DataFrame.\n",
      "Try using .loc[row_indexer,col_indexer] = value instead\n",
      "\n",
      "See the caveats in the documentation: https://pandas.pydata.org/pandas-docs/stable/user_guide/indexing.html#returning-a-view-versus-a-copy\n",
      "  train['대출목적'] = train['대출목적'].apply(lambda x: x.replace('주택 개선', 'housing improvement'))\n",
      "/tmp/ipykernel_1800/3457848075.py:3: SettingWithCopyWarning: \n",
      "A value is trying to be set on a copy of a slice from a DataFrame.\n",
      "Try using .loc[row_indexer,col_indexer] = value instead\n",
      "\n",
      "See the caveats in the documentation: https://pandas.pydata.org/pandas-docs/stable/user_guide/indexing.html#returning-a-view-versus-a-copy\n",
      "  train['대출목적'] = train['대출목적'].apply(lambda x: x.replace('주요 구매', 'major purchase'))\n",
      "/tmp/ipykernel_1800/3457848075.py:4: SettingWithCopyWarning: \n",
      "A value is trying to be set on a copy of a slice from a DataFrame.\n",
      "Try using .loc[row_indexer,col_indexer] = value instead\n",
      "\n",
      "See the caveats in the documentation: https://pandas.pydata.org/pandas-docs/stable/user_guide/indexing.html#returning-a-view-versus-a-copy\n",
      "  train['대출목적'] = train['대출목적'].apply(lambda x: x.replace('휴가', 'vacation'))\n",
      "/tmp/ipykernel_1800/3457848075.py:5: SettingWithCopyWarning: \n",
      "A value is trying to be set on a copy of a slice from a DataFrame.\n",
      "Try using .loc[row_indexer,col_indexer] = value instead\n",
      "\n",
      "See the caveats in the documentation: https://pandas.pydata.org/pandas-docs/stable/user_guide/indexing.html#returning-a-view-versus-a-copy\n",
      "  train['대출목적'] = train['대출목적'].apply(lambda x: x.replace('의료', 'medical treatment'))\n",
      "/tmp/ipykernel_1800/3457848075.py:6: SettingWithCopyWarning: \n",
      "A value is trying to be set on a copy of a slice from a DataFrame.\n",
      "Try using .loc[row_indexer,col_indexer] = value instead\n",
      "\n",
      "See the caveats in the documentation: https://pandas.pydata.org/pandas-docs/stable/user_guide/indexing.html#returning-a-view-versus-a-copy\n",
      "  train['대출목적'] = train['대출목적'].apply(lambda x: x.replace('자동차', 'car'))\n",
      "/tmp/ipykernel_1800/3457848075.py:7: SettingWithCopyWarning: \n",
      "A value is trying to be set on a copy of a slice from a DataFrame.\n",
      "Try using .loc[row_indexer,col_indexer] = value instead\n",
      "\n",
      "See the caveats in the documentation: https://pandas.pydata.org/pandas-docs/stable/user_guide/indexing.html#returning-a-view-versus-a-copy\n",
      "  train['대출목적'] = train['대출목적'].apply(lambda x: x.replace('신용 카드', 'credit card'))\n",
      "/tmp/ipykernel_1800/3457848075.py:8: SettingWithCopyWarning: \n",
      "A value is trying to be set on a copy of a slice from a DataFrame.\n",
      "Try using .loc[row_indexer,col_indexer] = value instead\n",
      "\n",
      "See the caveats in the documentation: https://pandas.pydata.org/pandas-docs/stable/user_guide/indexing.html#returning-a-view-versus-a-copy\n",
      "  train['대출목적'] = train['대출목적'].apply(lambda x: x.replace('소규모 사업', 'small business'))\n",
      "/tmp/ipykernel_1800/3457848075.py:9: SettingWithCopyWarning: \n",
      "A value is trying to be set on a copy of a slice from a DataFrame.\n",
      "Try using .loc[row_indexer,col_indexer] = value instead\n",
      "\n",
      "See the caveats in the documentation: https://pandas.pydata.org/pandas-docs/stable/user_guide/indexing.html#returning-a-view-versus-a-copy\n",
      "  train['대출목적'] = train['대출목적'].apply(lambda x: x.replace('기타', 'etc'))\n",
      "/tmp/ipykernel_1800/3457848075.py:10: SettingWithCopyWarning: \n",
      "A value is trying to be set on a copy of a slice from a DataFrame.\n",
      "Try using .loc[row_indexer,col_indexer] = value instead\n",
      "\n",
      "See the caveats in the documentation: https://pandas.pydata.org/pandas-docs/stable/user_guide/indexing.html#returning-a-view-versus-a-copy\n",
      "  train['대출목적'] = train['대출목적'].apply(lambda x: x.replace('이사', 'residential move'))\n",
      "/tmp/ipykernel_1800/3457848075.py:11: SettingWithCopyWarning: \n",
      "A value is trying to be set on a copy of a slice from a DataFrame.\n",
      "Try using .loc[row_indexer,col_indexer] = value instead\n",
      "\n",
      "See the caveats in the documentation: https://pandas.pydata.org/pandas-docs/stable/user_guide/indexing.html#returning-a-view-versus-a-copy\n",
      "  train['대출목적'] = train['대출목적'].apply(lambda x: x.replace('주택', 'house'))\n",
      "/tmp/ipykernel_1800/3457848075.py:12: SettingWithCopyWarning: \n",
      "A value is trying to be set on a copy of a slice from a DataFrame.\n",
      "Try using .loc[row_indexer,col_indexer] = value instead\n",
      "\n",
      "See the caveats in the documentation: https://pandas.pydata.org/pandas-docs/stable/user_guide/indexing.html#returning-a-view-versus-a-copy\n",
      "  train['대출목적'] = train['대출목적'].apply(lambda x: x.replace('재생 에너지', 'renewable energy'))\n"
     ]
    }
   ],
   "source": [
    "train['대출목적'] = train['대출목적'].apply(lambda x: x.replace('부채 통합', 'debt consolidation'))\n",
    "train['대출목적'] = train['대출목적'].apply(lambda x: x.replace('주택 개선', 'housing improvement'))\n",
    "train['대출목적'] = train['대출목적'].apply(lambda x: x.replace('주요 구매', 'major purchase'))\n",
    "train['대출목적'] = train['대출목적'].apply(lambda x: x.replace('휴가', 'vacation'))\n",
    "train['대출목적'] = train['대출목적'].apply(lambda x: x.replace('의료', 'medical treatment'))\n",
    "train['대출목적'] = train['대출목적'].apply(lambda x: x.replace('자동차', 'car'))\n",
    "train['대출목적'] = train['대출목적'].apply(lambda x: x.replace('신용 카드', 'credit card'))\n",
    "train['대출목적'] = train['대출목적'].apply(lambda x: x.replace('소규모 사업', 'small business'))\n",
    "train['대출목적'] = train['대출목적'].apply(lambda x: x.replace('기타', 'etc'))\n",
    "train['대출목적'] = train['대출목적'].apply(lambda x: x.replace('이사', 'residential move'))\n",
    "train['대출목적'] = train['대출목적'].apply(lambda x: x.replace('주택', 'house'))\n",
    "train['대출목적'] = train['대출목적'].apply(lambda x: x.replace('재생 에너지', 'renewable energy'))\n",
    "\n"
   ]
  },
  {
   "cell_type": "code",
   "execution_count": 11,
   "metadata": {},
   "outputs": [
    {
     "name": "stderr",
     "output_type": "stream",
     "text": [
      "/tmp/ipykernel_1800/948104713.py:1: SettingWithCopyWarning: \n",
      "A value is trying to be set on a copy of a slice from a DataFrame.\n",
      "Try using .loc[row_indexer,col_indexer] = value instead\n",
      "\n",
      "See the caveats in the documentation: https://pandas.pydata.org/pandas-docs/stable/user_guide/indexing.html#returning-a-view-versus-a-copy\n",
      "  val['대출기간'] = val['대출기간'].apply(lambda x: int(x.split(' ')[1]))\n",
      "/tmp/ipykernel_1800/948104713.py:2: SettingWithCopyWarning: \n",
      "A value is trying to be set on a copy of a slice from a DataFrame.\n",
      "Try using .loc[row_indexer,col_indexer] = value instead\n",
      "\n",
      "See the caveats in the documentation: https://pandas.pydata.org/pandas-docs/stable/user_guide/indexing.html#returning-a-view-versus-a-copy\n",
      "  val['근로기간'] = val['근로기간'].apply(lambda x: x.replace('+', ' '))\n",
      "/tmp/ipykernel_1800/948104713.py:3: SettingWithCopyWarning: \n",
      "A value is trying to be set on a copy of a slice from a DataFrame.\n",
      "Try using .loc[row_indexer,col_indexer] = value instead\n",
      "\n",
      "See the caveats in the documentation: https://pandas.pydata.org/pandas-docs/stable/user_guide/indexing.html#returning-a-view-versus-a-copy\n",
      "  val['근로기간'] = val['근로기간'].apply(lambda x: x.replace('<', ''))\n",
      "/tmp/ipykernel_1800/948104713.py:4: SettingWithCopyWarning: \n",
      "A value is trying to be set on a copy of a slice from a DataFrame.\n",
      "Try using .loc[row_indexer,col_indexer] = value instead\n",
      "\n",
      "See the caveats in the documentation: https://pandas.pydata.org/pandas-docs/stable/user_guide/indexing.html#returning-a-view-versus-a-copy\n",
      "  val['근로기간'] = val['근로기간'].apply(lambda x: x.replace('>', ''))\n",
      "/tmp/ipykernel_1800/948104713.py:5: SettingWithCopyWarning: \n",
      "A value is trying to be set on a copy of a slice from a DataFrame.\n",
      "Try using .loc[row_indexer,col_indexer] = value instead\n",
      "\n",
      "See the caveats in the documentation: https://pandas.pydata.org/pandas-docs/stable/user_guide/indexing.html#returning-a-view-versus-a-copy\n",
      "  val['근로기간'] = val['근로기간'].apply(lambda x: x.replace('Unknown', '0 years'))\n",
      "/tmp/ipykernel_1800/948104713.py:6: SettingWithCopyWarning: \n",
      "A value is trying to be set on a copy of a slice from a DataFrame.\n",
      "Try using .loc[row_indexer,col_indexer] = value instead\n",
      "\n",
      "See the caveats in the documentation: https://pandas.pydata.org/pandas-docs/stable/user_guide/indexing.html#returning-a-view-versus-a-copy\n",
      "  val['근로기간'] = val['근로기간'].apply(lambda x: x.replace('years', 'year'))\n",
      "/tmp/ipykernel_1800/948104713.py:7: SettingWithCopyWarning: \n",
      "A value is trying to be set on a copy of a slice from a DataFrame.\n",
      "Try using .loc[row_indexer,col_indexer] = value instead\n",
      "\n",
      "See the caveats in the documentation: https://pandas.pydata.org/pandas-docs/stable/user_guide/indexing.html#returning-a-view-versus-a-copy\n",
      "  val['근로기간'] = val['근로기간'].apply(lambda x: int(x.split('year')[0]))\n",
      "/tmp/ipykernel_1800/948104713.py:8: SettingWithCopyWarning: \n",
      "A value is trying to be set on a copy of a slice from a DataFrame.\n",
      "Try using .loc[row_indexer,col_indexer] = value instead\n",
      "\n",
      "See the caveats in the documentation: https://pandas.pydata.org/pandas-docs/stable/user_guide/indexing.html#returning-a-view-versus-a-copy\n",
      "  val['대출목적'] = val['대출목적'].apply(lambda x: x.replace('부채 통합', 'debt consolidation'))\n",
      "/tmp/ipykernel_1800/948104713.py:9: SettingWithCopyWarning: \n",
      "A value is trying to be set on a copy of a slice from a DataFrame.\n",
      "Try using .loc[row_indexer,col_indexer] = value instead\n",
      "\n",
      "See the caveats in the documentation: https://pandas.pydata.org/pandas-docs/stable/user_guide/indexing.html#returning-a-view-versus-a-copy\n",
      "  val['대출목적'] = val['대출목적'].apply(lambda x: x.replace('주택 개선', 'housing improvement'))\n",
      "/tmp/ipykernel_1800/948104713.py:10: SettingWithCopyWarning: \n",
      "A value is trying to be set on a copy of a slice from a DataFrame.\n",
      "Try using .loc[row_indexer,col_indexer] = value instead\n",
      "\n",
      "See the caveats in the documentation: https://pandas.pydata.org/pandas-docs/stable/user_guide/indexing.html#returning-a-view-versus-a-copy\n",
      "  val['대출목적'] = val['대출목적'].apply(lambda x: x.replace('주요 구매', 'major purchase'))\n",
      "/tmp/ipykernel_1800/948104713.py:11: SettingWithCopyWarning: \n",
      "A value is trying to be set on a copy of a slice from a DataFrame.\n",
      "Try using .loc[row_indexer,col_indexer] = value instead\n",
      "\n",
      "See the caveats in the documentation: https://pandas.pydata.org/pandas-docs/stable/user_guide/indexing.html#returning-a-view-versus-a-copy\n",
      "  val['대출목적'] = val['대출목적'].apply(lambda x: x.replace('휴가', 'vacation'))\n",
      "/tmp/ipykernel_1800/948104713.py:12: SettingWithCopyWarning: \n",
      "A value is trying to be set on a copy of a slice from a DataFrame.\n",
      "Try using .loc[row_indexer,col_indexer] = value instead\n",
      "\n",
      "See the caveats in the documentation: https://pandas.pydata.org/pandas-docs/stable/user_guide/indexing.html#returning-a-view-versus-a-copy\n",
      "  val['대출목적'] = val['대출목적'].apply(lambda x: x.replace('의료', 'medical treatment'))\n",
      "/tmp/ipykernel_1800/948104713.py:13: SettingWithCopyWarning: \n",
      "A value is trying to be set on a copy of a slice from a DataFrame.\n",
      "Try using .loc[row_indexer,col_indexer] = value instead\n",
      "\n",
      "See the caveats in the documentation: https://pandas.pydata.org/pandas-docs/stable/user_guide/indexing.html#returning-a-view-versus-a-copy\n",
      "  val['대출목적'] = val['대출목적'].apply(lambda x: x.replace('자동차', 'car'))\n",
      "/tmp/ipykernel_1800/948104713.py:14: SettingWithCopyWarning: \n",
      "A value is trying to be set on a copy of a slice from a DataFrame.\n",
      "Try using .loc[row_indexer,col_indexer] = value instead\n",
      "\n",
      "See the caveats in the documentation: https://pandas.pydata.org/pandas-docs/stable/user_guide/indexing.html#returning-a-view-versus-a-copy\n",
      "  val['대출목적'] = val['대출목적'].apply(lambda x: x.replace('신용 카드', 'credit card'))\n",
      "/tmp/ipykernel_1800/948104713.py:15: SettingWithCopyWarning: \n",
      "A value is trying to be set on a copy of a slice from a DataFrame.\n",
      "Try using .loc[row_indexer,col_indexer] = value instead\n",
      "\n",
      "See the caveats in the documentation: https://pandas.pydata.org/pandas-docs/stable/user_guide/indexing.html#returning-a-view-versus-a-copy\n",
      "  val['대출목적'] = val['대출목적'].apply(lambda x: x.replace('소규모 사업', 'small business'))\n",
      "/tmp/ipykernel_1800/948104713.py:16: SettingWithCopyWarning: \n",
      "A value is trying to be set on a copy of a slice from a DataFrame.\n",
      "Try using .loc[row_indexer,col_indexer] = value instead\n",
      "\n",
      "See the caveats in the documentation: https://pandas.pydata.org/pandas-docs/stable/user_guide/indexing.html#returning-a-view-versus-a-copy\n",
      "  val['대출목적'] = val['대출목적'].apply(lambda x: x.replace('기타', 'etc'))\n",
      "/tmp/ipykernel_1800/948104713.py:17: SettingWithCopyWarning: \n",
      "A value is trying to be set on a copy of a slice from a DataFrame.\n",
      "Try using .loc[row_indexer,col_indexer] = value instead\n",
      "\n",
      "See the caveats in the documentation: https://pandas.pydata.org/pandas-docs/stable/user_guide/indexing.html#returning-a-view-versus-a-copy\n",
      "  val['대출목적'] = val['대출목적'].apply(lambda x: x.replace('이사', 'residential move'))\n",
      "/tmp/ipykernel_1800/948104713.py:18: SettingWithCopyWarning: \n",
      "A value is trying to be set on a copy of a slice from a DataFrame.\n",
      "Try using .loc[row_indexer,col_indexer] = value instead\n",
      "\n",
      "See the caveats in the documentation: https://pandas.pydata.org/pandas-docs/stable/user_guide/indexing.html#returning-a-view-versus-a-copy\n",
      "  val['대출목적'] = val['대출목적'].apply(lambda x: x.replace('주택', 'house'))\n",
      "/tmp/ipykernel_1800/948104713.py:19: SettingWithCopyWarning: \n",
      "A value is trying to be set on a copy of a slice from a DataFrame.\n",
      "Try using .loc[row_indexer,col_indexer] = value instead\n",
      "\n",
      "See the caveats in the documentation: https://pandas.pydata.org/pandas-docs/stable/user_guide/indexing.html#returning-a-view-versus-a-copy\n",
      "  val['대출목적'] = val['대출목적'].apply(lambda x: x.replace('재생 에너지', 'renewable energy'))\n"
     ]
    }
   ],
   "source": [
    "val['대출기간'] = val['대출기간'].apply(lambda x: int(x.split(' ')[1]))\n",
    "val['근로기간'] = val['근로기간'].apply(lambda x: x.replace('+', ' '))\n",
    "val['근로기간'] = val['근로기간'].apply(lambda x: x.replace('<', ''))\n",
    "val['근로기간'] = val['근로기간'].apply(lambda x: x.replace('>', ''))\n",
    "val['근로기간'] = val['근로기간'].apply(lambda x: x.replace('Unknown', '0 years'))\n",
    "val['근로기간'] = val['근로기간'].apply(lambda x: x.replace('years', 'year'))\n",
    "val['근로기간'] = val['근로기간'].apply(lambda x: int(x.split('year')[0]))\n",
    "val['대출목적'] = val['대출목적'].apply(lambda x: x.replace('부채 통합', 'debt consolidation'))\n",
    "val['대출목적'] = val['대출목적'].apply(lambda x: x.replace('주택 개선', 'housing improvement'))\n",
    "val['대출목적'] = val['대출목적'].apply(lambda x: x.replace('주요 구매', 'major purchase'))\n",
    "val['대출목적'] = val['대출목적'].apply(lambda x: x.replace('휴가', 'vacation'))\n",
    "val['대출목적'] = val['대출목적'].apply(lambda x: x.replace('의료', 'medical treatment'))\n",
    "val['대출목적'] = val['대출목적'].apply(lambda x: x.replace('자동차', 'car'))\n",
    "val['대출목적'] = val['대출목적'].apply(lambda x: x.replace('신용 카드', 'credit card'))\n",
    "val['대출목적'] = val['대출목적'].apply(lambda x: x.replace('소규모 사업', 'small business'))\n",
    "val['대출목적'] = val['대출목적'].apply(lambda x: x.replace('기타', 'etc'))\n",
    "val['대출목적'] = val['대출목적'].apply(lambda x: x.replace('이사', 'residential move'))\n",
    "val['대출목적'] = val['대출목적'].apply(lambda x: x.replace('주택', 'house'))\n",
    "val['대출목적'] = val['대출목적'].apply(lambda x: x.replace('재생 에너지', 'renewable energy'))\n",
    "\n",
    "\n"
   ]
  },
  {
   "cell_type": "code",
   "execution_count": 12,
   "metadata": {},
   "outputs": [],
   "source": [
    "test['대출기간'] = test['대출기간'].apply(lambda x: int(x.split(' ')[1]))\n",
    "test['근로기간'] = test['근로기간'].apply(lambda x: x.replace('+', ' '))\n",
    "test['근로기간'] = test['근로기간'].apply(lambda x: x.replace('<', ''))\n",
    "test['근로기간'] = test['근로기간'].apply(lambda x: x.replace('>', ''))\n",
    "test['근로기간'] = test['근로기간'].apply(lambda x: x.replace('Unknown', '0 years'))\n",
    "test['근로기간'] = test['근로기간'].apply(lambda x: x.replace('years', 'year'))\n",
    "test['근로기간'] = test['근로기간'].apply(lambda x: int(x.split('year')[0]))\n",
    "test['대출목적'] = test['대출목적'].apply(lambda x: x.replace('부채 통합', 'debt consolidation'))\n",
    "test['대출목적'] = test['대출목적'].apply(lambda x: x.replace('주택 개선', 'housing improvement'))\n",
    "test['대출목적'] = test['대출목적'].apply(lambda x: x.replace('주요 구매', 'major purchase'))\n",
    "test['대출목적'] = test['대출목적'].apply(lambda x: x.replace('휴가', 'vacation'))\n",
    "test['대출목적'] = test['대출목적'].apply(lambda x: x.replace('의료', 'medical treatment'))\n",
    "test['대출목적'] = test['대출목적'].apply(lambda x: x.replace('자동차', 'car'))\n",
    "test['대출목적'] = test['대출목적'].apply(lambda x: x.replace('신용 카드', 'credit card'))\n",
    "test['대출목적'] = test['대출목적'].apply(lambda x: x.replace('소규모 사업', 'small business'))\n",
    "test['대출목적'] = test['대출목적'].apply(lambda x: x.replace('기타', 'etc'))\n",
    "test['대출목적'] = test['대출목적'].apply(lambda x: x.replace('이사', 'residential move'))\n",
    "test['대출목적'] = test['대출목적'].apply(lambda x: x.replace('주택', 'house'))\n",
    "test['대출목적'] = test['대출목적'].apply(lambda x: x.replace('재생 에너지', 'renewable energy'))\n",
    "\n",
    "\n"
   ]
  },
  {
   "cell_type": "code",
   "execution_count": 71,
   "metadata": {},
   "outputs": [],
   "source": []
  },
  {
   "cell_type": "markdown",
   "metadata": {},
   "source": [
    "### Dataset 만들기"
   ]
  },
  {
   "cell_type": "code",
   "execution_count": 6,
   "metadata": {},
   "outputs": [],
   "source": [
    "from datasets import Dataset, DatasetDict"
   ]
  },
  {
   "cell_type": "code",
   "execution_count": 7,
   "metadata": {},
   "outputs": [],
   "source": [
    "train = train.iloc[ :-2000, : ]\n",
    "val = train.iloc[-2000: , : ]"
   ]
  },
  {
   "cell_type": "code",
   "execution_count": 13,
   "metadata": {},
   "outputs": [],
   "source": [
    "train_data = Dataset.from_pandas(train)\n",
    "val_data = Dataset.from_pandas(val)\n"
   ]
  },
  {
   "cell_type": "code",
   "execution_count": 14,
   "metadata": {},
   "outputs": [],
   "source": [
    "test_data = Dataset.from_pandas(test)"
   ]
  },
  {
   "cell_type": "code",
   "execution_count": 15,
   "metadata": {},
   "outputs": [
    {
     "data": {
      "text/plain": [
       "Dataset({\n",
       "    features: ['ID', '대출금액', '대출기간', '근로기간', '주택소유상태', '연간소득', '부채_대비_소득_비율', '총계좌수', '대출목적', '최근_2년간_연체_횟수', '총상환원금', '총상환이자', '총연체금액', '연체계좌수', '대출등급'],\n",
       "    num_rows: 94294\n",
       "})"
      ]
     },
     "execution_count": 15,
     "metadata": {},
     "output_type": "execute_result"
    }
   ],
   "source": [
    "train_data"
   ]
  },
  {
   "cell_type": "code",
   "execution_count": 16,
   "metadata": {},
   "outputs": [],
   "source": [
    "dataset = DatasetDict(\n",
    "    {\n",
    "        \"train\" : train_data,\n",
    "        \"val\" : val_data,\n",
    "        \"test\" : test_data\n",
    "    }\n",
    ")"
   ]
  },
  {
   "cell_type": "code",
   "execution_count": 17,
   "metadata": {},
   "outputs": [
    {
     "data": {
      "text/plain": [
       "DatasetDict({\n",
       "    train: Dataset({\n",
       "        features: ['ID', '대출금액', '대출기간', '근로기간', '주택소유상태', '연간소득', '부채_대비_소득_비율', '총계좌수', '대출목적', '최근_2년간_연체_횟수', '총상환원금', '총상환이자', '총연체금액', '연체계좌수', '대출등급'],\n",
       "        num_rows: 94294\n",
       "    })\n",
       "    val: Dataset({\n",
       "        features: ['ID', '대출금액', '대출기간', '근로기간', '주택소유상태', '연간소득', '부채_대비_소득_비율', '총계좌수', '대출목적', '최근_2년간_연체_횟수', '총상환원금', '총상환이자', '총연체금액', '연체계좌수', '대출등급'],\n",
       "        num_rows: 2000\n",
       "    })\n",
       "    test: Dataset({\n",
       "        features: ['ID', '대출금액', '대출기간', '근로기간', '주택소유상태', '연간소득', '부채_대비_소득_비율', '총계좌수', '대출목적', '최근_2년간_연체_횟수', '총상환원금', '총상환이자', '총연체금액', '연체계좌수'],\n",
       "        num_rows: 64197\n",
       "    })\n",
       "})"
      ]
     },
     "execution_count": 17,
     "metadata": {},
     "output_type": "execute_result"
    }
   ],
   "source": [
    "dataset"
   ]
  },
  {
   "cell_type": "code",
   "execution_count": 18,
   "metadata": {},
   "outputs": [],
   "source": [
    "prompt_format = \"\"\" you are financial speciallist. And you will see ###condition of one person. and judge his/her Credit rating\n",
    "response about ###instruction \n",
    "\n",
    "###Condition\n",
    "he/she owe $ %d , take out a loan during %d months. \n",
    "He/she works for %d years. Status of home ownership is %s\n",
    "His/her annual income was about %d. His/her total debt/income ratio was %f \n",
    "He/she have total %d accounts, and he/she take out a loan for %s.\n",
    "He/she overdue of interest %d times over last 2 year.\n",
    "His/Her total redemption principal $ %d. His/Her total interst pay $ %f \n",
    "His/Her total overdue payment $ %f. He/She have %f overdue account for total \n",
    "\n",
    "\n",
    "###instruction: with those conditions, Guess His Credit Rating in one of A,B,C,D,E,F,G \n",
    "\n",
    "\n",
    "###Credit Rating : %s \n",
    "\"\"\""
   ]
  },
  {
   "cell_type": "code",
   "execution_count": 19,
   "metadata": {},
   "outputs": [
    {
     "data": {
      "application/vnd.jupyter.widget-view+json": {
       "model_id": "5c13ade46ae9431a8ab7172ce874472c",
       "version_major": 2,
       "version_minor": 0
      },
      "text/plain": [
       "Map:   0%|          | 0/94294 [00:00<?, ? examples/s]"
      ]
     },
     "metadata": {},
     "output_type": "display_data"
    }
   ],
   "source": [
    "\n",
    "\n",
    "\n",
    "\n",
    "def gen_prompt(element):\n",
    "    return DatasetDict({'input': prompt_format%(element['대출금액'], element['대출기간'], element['근로기간'], element['주택소유상태'], element['연간소득'], element['부채_대비_소득_비율'], element['총계좌수'], element['대출목적'], element['최근_2년간_연체_횟수'], element['총상환원금'],\n",
    "element['총상환이자'], element['총연체금액'], element['연체계좌수'], element['대출등급'])})\n",
    "\n",
    "\n",
    "dataset['train'] = dataset['train'].map(gen_prompt)"
   ]
  },
  {
   "cell_type": "code",
   "execution_count": 20,
   "metadata": {},
   "outputs": [
    {
     "data": {
      "application/vnd.jupyter.widget-view+json": {
       "model_id": "4678220873d44ec4a6c53d9af92a7e77",
       "version_major": 2,
       "version_minor": 0
      },
      "text/plain": [
       "Map:   0%|          | 0/2000 [00:00<?, ? examples/s]"
      ]
     },
     "metadata": {},
     "output_type": "display_data"
    }
   ],
   "source": [
    "dataset['val'] = dataset['val'].map(gen_prompt)"
   ]
  },
  {
   "cell_type": "code",
   "execution_count": 21,
   "metadata": {},
   "outputs": [],
   "source": [
    "test_prompt_format = \"\"\"you are financial speciallist. And you will see ###condition of one person. and judge his/her Credit rating\n",
    "response about ###instruction \n",
    "\n",
    "###Condition\n",
    "he/she owe $ %d , take out a loan during %d months. \n",
    "He/she works for %d years. Status of home ownership is %s\n",
    "His/her annual income was about %d. His/her total debt/income ratio was %f \n",
    "He/she have total %d accounts, and he/she take out a loan for %s.\n",
    "He/she overdue of interest %d times over last 2 year.\n",
    "His/Her total redemption principal $ %d. His/Her total interst pay $ %f \n",
    "His/Her total overdue payment $ %f. He/She have %f overdue account for total \n",
    "\n",
    "###instruction: with those conditions, Guess His Credit Rating in one of A,B,C,D,E,F,G \n",
    "\n",
    "\n",
    "###Credit Rating : \n",
    "\n",
    "\"\"\""
   ]
  },
  {
   "cell_type": "code",
   "execution_count": 22,
   "metadata": {},
   "outputs": [],
   "source": [
    "def gen_prompt_test(element):\n",
    "    return DatasetDict({'input': test_prompt_format%(element['대출금액'], element['대출기간'], element['근로기간'], element['주택소유상태'], element['연간소득'], element['부채_대비_소득_비율'], element['총계좌수'], element['대출목적'], element['최근_2년간_연체_횟수'], element['총상환원금'],\n",
    "element['총상환이자'], element['총연체금액'], element['연체계좌수'])})"
   ]
  },
  {
   "cell_type": "code",
   "execution_count": 23,
   "metadata": {},
   "outputs": [
    {
     "data": {
      "application/vnd.jupyter.widget-view+json": {
       "model_id": "b5a20e091b61498aac80efc456af0212",
       "version_major": 2,
       "version_minor": 0
      },
      "text/plain": [
       "Map:   0%|          | 0/64197 [00:00<?, ? examples/s]"
      ]
     },
     "metadata": {},
     "output_type": "display_data"
    }
   ],
   "source": [
    "dataset['test'] = dataset['test'].map(gen_prompt_test)\n"
   ]
  },
  {
   "cell_type": "code",
   "execution_count": 24,
   "metadata": {},
   "outputs": [
    {
     "data": {
      "text/plain": [
       "array(['C', 'B', 'A', 'D', 'F', 'G', 'E'], dtype=object)"
      ]
     },
     "execution_count": 24,
     "metadata": {},
     "output_type": "execute_result"
    }
   ],
   "source": [
    "ranking = train.대출등급.unique()\n",
    "ranking"
   ]
  },
  {
   "cell_type": "code",
   "execution_count": 25,
   "metadata": {},
   "outputs": [],
   "source": [
    "int2label = {i: ranking[i] for i in range(len(ranking))}\n",
    "label2int = {int2label[key]:key for key in int2label}"
   ]
  },
  {
   "cell_type": "code",
   "execution_count": 26,
   "metadata": {},
   "outputs": [
    {
     "data": {
      "text/plain": [
       "({0: 'C', 1: 'B', 2: 'A', 3: 'D', 4: 'F', 5: 'G', 6: 'E'},\n",
       " {'C': 0, 'B': 1, 'A': 2, 'D': 3, 'F': 4, 'G': 5, 'E': 6})"
      ]
     },
     "execution_count": 26,
     "metadata": {},
     "output_type": "execute_result"
    }
   ],
   "source": [
    "int2label, label2int"
   ]
  },
  {
   "cell_type": "code",
   "execution_count": null,
   "metadata": {},
   "outputs": [],
   "source": []
  },
  {
   "cell_type": "code",
   "execution_count": null,
   "metadata": {},
   "outputs": [],
   "source": []
  },
  {
   "cell_type": "code",
   "execution_count": 25,
   "metadata": {},
   "outputs": [],
   "source": [
    "base_model = \"beomi/open-llama-2-ko-7b\""
   ]
  },
  {
   "cell_type": "markdown",
   "metadata": {},
   "source": [
    "### 토크나이저 , 모델 로드"
   ]
  },
  {
   "cell_type": "code",
   "execution_count": 26,
   "metadata": {},
   "outputs": [],
   "source": [
    "from transformers import LlamaForCausalLM\n",
    "from transformers import AutoTokenizer"
   ]
  },
  {
   "cell_type": "code",
   "execution_count": 27,
   "metadata": {},
   "outputs": [],
   "source": [
    "base_model = \"beomi/open-llama-2-ko-7b\"\n",
    "\n",
    "\n",
    "tokenizer = AutoTokenizer.from_pretrained(base_model, padding_side = 'right')\n",
    "\n",
    "\n"
   ]
  },
  {
   "cell_type": "code",
   "execution_count": 28,
   "metadata": {},
   "outputs": [
    {
     "data": {
      "text/plain": [
       "'</s>'"
      ]
     },
     "execution_count": 28,
     "metadata": {},
     "output_type": "execute_result"
    }
   ],
   "source": [
    "tokenizer.pad_token"
   ]
  },
  {
   "cell_type": "code",
   "execution_count": 32,
   "metadata": {},
   "outputs": [
    {
     "data": {
      "text/plain": [
       "LlamaConfig {\n",
       "  \"attention_bias\": false,\n",
       "  \"attention_dropout\": 0.0,\n",
       "  \"bos_token_id\": 1,\n",
       "  \"eos_token_id\": 2,\n",
       "  \"hidden_act\": \"silu\",\n",
       "  \"hidden_size\": 4096,\n",
       "  \"initializer_range\": 0.02,\n",
       "  \"intermediate_size\": 11008,\n",
       "  \"max_position_embeddings\": 2048,\n",
       "  \"model_type\": \"llama\",\n",
       "  \"num_attention_heads\": 32,\n",
       "  \"num_hidden_layers\": 32,\n",
       "  \"num_key_value_heads\": 32,\n",
       "  \"pretraining_tp\": 1,\n",
       "  \"rms_norm_eps\": 1e-06,\n",
       "  \"rope_scaling\": null,\n",
       "  \"rope_theta\": 10000.0,\n",
       "  \"tie_word_embeddings\": false,\n",
       "  \"transformers_version\": \"4.36.2\",\n",
       "  \"use_cache\": true,\n",
       "  \"vocab_size\": 32000\n",
       "}"
      ]
     },
     "execution_count": 32,
     "metadata": {},
     "output_type": "execute_result"
    }
   ],
   "source": [
    "from transformers import LlamaConfig\n",
    "\n",
    "# llama2 모델 config 관련된 arg 정리 \n",
    "\n",
    "\n",
    "configuration = LlamaConfig()\n",
    "\n",
    "configuration"
   ]
  },
  {
   "cell_type": "code",
   "execution_count": 14,
   "metadata": {},
   "outputs": [
    {
     "data": {
      "text/plain": [
       "(1, 2, 46336)"
      ]
     },
     "execution_count": 14,
     "metadata": {},
     "output_type": "execute_result"
    }
   ],
   "source": [
    "tokenizer.bos_token_id, tokenizer.eos_token_id, tokenizer.vocab_size\n"
   ]
  },
  {
   "cell_type": "code",
   "execution_count": 96,
   "metadata": {},
   "outputs": [],
   "source": [
    "configuration = LlamaConfig(**{\n",
    "  \"bos_token_id\": 1,\n",
    "  \"eos_token_id\": 2,\n",
    "  \"hidden_act\": \"silu\",\n",
    "  \"hidden_size\": 512, \n",
    "  \"initializer_range\": 0.02,\n",
    "  \"intermediate_size\": 1376,\n",
    "  \"max_position_embeddings\": 128,\n",
    "  \"model_type\": \"llama\",\n",
    "  \"num_attention_heads\": 4,\n",
    "  \"num_hidden_layers\": 4,\n",
    "  \"pad_token_id\": 2,\n",
    "  \"rms_norm_eps\": 1e-06,\n",
    "  \"tie_word_embeddings\": False,\n",
    "  \"transformers_version\": \"4.28.0\",\n",
    "  \"use_cache\": True,\n",
    "  \"vocab_size\": 46336\n",
    "})\n",
    "\n",
    "\n",
    "\n",
    "\n",
    "# model check를 위한 코드이기 때문에 hidden_size 줄임. \n",
    "# attention head 줄임 \n",
    "# vocan sisze의 경우는 tokenizer에서 학습된 토큰의 개수에 맞춰서 진행해준다. "
   ]
  },
  {
   "cell_type": "code",
   "execution_count": 29,
   "metadata": {},
   "outputs": [
    {
     "data": {
      "application/vnd.jupyter.widget-view+json": {
       "model_id": "699e416c411a4c1582bbff91af8ccf5d",
       "version_major": 2,
       "version_minor": 0
      },
      "text/plain": [
       "Loading checkpoint shards:   0%|          | 0/5 [00:00<?, ?it/s]"
      ]
     },
     "metadata": {},
     "output_type": "display_data"
    }
   ],
   "source": [
    "from transformers import LlamaForCausalLM\n",
    "\n",
    "\n",
    "model = LlamaForCausalLM.from_pretrained(base_model)"
   ]
  },
  {
   "cell_type": "code",
   "execution_count": 167,
   "metadata": {},
   "outputs": [
    {
     "name": "stdout",
     "output_type": "stream",
     "text": [
      "you are financial speciallist. And you will see ###condition of one person. and judge his/her Credit rating\n",
      "response about ###instruction \n",
      "\n",
      "###Condition\n",
      "he/she owe $ 16800000 , take out a loan during 36 months. \n",
      "He/she works for 8 years. Status of home ownership is MORTGAGE\n",
      "His/her annual income was about 132000000. His/her total debt/income ratio was 19.640000 \n",
      "He/she have total 12 accounts, and he/she take out a loan for housing improvement.\n",
      "He/she overdue of interest 0 times over last 2 year.\n",
      "His/Her total redemption principal $ 394692. His/Her total interst pay $ 146604.000000 \n",
      "His/Her total overdue payment $ 0.000000. He/She have 0.000000 overdue account for total \n",
      "\n",
      "###instruction: with those conditions, Guess His Credit Rating in one of A,B,C,D,E,F,G \n",
      "\n",
      "\n",
      "###Credit Rating : \n",
      "\n",
      "\n"
     ]
    }
   ],
   "source": [
    "print(dataset['test']['input'][0])"
   ]
  },
  {
   "cell_type": "code",
   "execution_count": 33,
   "metadata": {},
   "outputs": [],
   "source": [
    "import torch \n",
    "torch.cuda.empty_cache()"
   ]
  },
  {
   "cell_type": "code",
   "execution_count": 155,
   "metadata": {},
   "outputs": [],
   "source": [
    "##학습 전 결과 보기\n",
    "tokenizer = AutoTokenizer.from_pretrained(base_model, padding_side = 'left')\n",
    "\n",
    "outputs = tokenizer(\n",
    "    dataset['test']['input'][0],\n",
    "    truncation=True,\n",
    "    max_length=2048,\n",
    "    return_overflowing_tokens=True, # 자른 나머지를 버리는 것이 아닌 추후에 다시 사용하는 것을 의미한다. \n",
    "    return_length=True, # 길이를 같이 return 하게 된다.\n",
    "    return_tensors = 'pt'\n",
    ")\n",
    "    \n"
   ]
  },
  {
   "cell_type": "code",
   "execution_count": 157,
   "metadata": {},
   "outputs": [
    {
     "data": {
      "text/plain": [
       "{'input_ids': tensor([[    1,   366,   526, 18161,   961,   455,   497,   391, 29889,  1126,\n",
       "           366,   674,  1074,   835, 16122,   310,   697,  2022, 29889,   322,\n",
       "         16833,   670, 29914,  2276, 24596,   277, 21700,    13,  5327,  1048,\n",
       "           835,  2611,  4080, 29871,    13,    13,  2277, 29937, 25255,    13,\n",
       "           354, 29914, 11360,   288,   705,   395, 29871, 29896, 29953, 29947,\n",
       "         29900, 29900, 29900, 29900, 29900,  1919,  2125,   714,   263, 24806,\n",
       "          2645, 29871, 29941, 29953,  7378, 29889, 29871,    13,  3868, 29914,\n",
       "         11360,  1736,   363, 29871, 29947,  2440, 29889, 16034,   310,  3271,\n",
       "         27428,   338,   341,  8476, 29954, 10461,    13, 29950,   275, 29914,\n",
       "          2276, 17568, 17869,   471,  1048, 29871, 29896, 29941, 29906, 29900,\n",
       "         29900, 29900, 29900, 29900, 29900, 29889,  3600, 29914,  2276,  3001,\n",
       "          2553, 29873, 29914,   262,  2763, 11959,   471, 29871, 29896, 29929,\n",
       "         29889, 29953, 29946, 29900, 29900, 29900, 29900, 29871,    13,  3868,\n",
       "         29914, 11360,   505,  3001, 29871, 29896, 29906, 15303, 29892,   322,\n",
       "           540, 29914, 11360,  2125,   714,   263, 24806,   363, 27261, 20414,\n",
       "         29889,    13,  3868, 29914, 11360,   975, 29123,   310,  4066, 29871,\n",
       "         29900,  3064,   975,  1833, 29871, 29906,  1629, 29889,    13, 29950,\n",
       "           275, 29914, 18650,  3001,   337,  2310,   683,  5882,   395, 29871,\n",
       "         29941, 29929, 29946, 29953, 29929, 29906, 29889,  3600, 29914, 18650,\n",
       "          3001,  1006,   303,  5146,   395, 29871, 29896, 29946, 29953, 29953,\n",
       "         29900, 29946, 29889, 29900, 29900, 29900, 29900, 29900, 29900, 29871,\n",
       "            13, 29950,   275, 29914, 18650,  3001,   975, 29123, 19179,   395,\n",
       "         29871, 29900, 29889, 29900, 29900, 29900, 29900, 29900, 29900, 29889,\n",
       "           940, 29914, 13468,   505, 29871, 29900, 29889, 29900, 29900, 29900,\n",
       "         29900, 29900, 29900,   975, 29123,  3633,   363,  3001, 29871,    13,\n",
       "            13,  2277, 29937,  2611,  4080, 29901,   411,  1906,  5855, 29892,\n",
       "          2088,   404,  3600, 24596,   277,   390,  1218,   297,   697,   310,\n",
       "           319, 29892, 29933, 29892, 29907, 29892, 29928, 29892, 29923, 29892,\n",
       "         29943, 29892, 29954, 29871,    13,    13,    13,  2277, 29937, 15507,\n",
       "           277,   390,  1218,   584, 29871,    13,    13]]), 'attention_mask': tensor([[1, 1, 1, 1, 1, 1, 1, 1, 1, 1, 1, 1, 1, 1, 1, 1, 1, 1, 1, 1, 1, 1, 1, 1,\n",
       "         1, 1, 1, 1, 1, 1, 1, 1, 1, 1, 1, 1, 1, 1, 1, 1, 1, 1, 1, 1, 1, 1, 1, 1,\n",
       "         1, 1, 1, 1, 1, 1, 1, 1, 1, 1, 1, 1, 1, 1, 1, 1, 1, 1, 1, 1, 1, 1, 1, 1,\n",
       "         1, 1, 1, 1, 1, 1, 1, 1, 1, 1, 1, 1, 1, 1, 1, 1, 1, 1, 1, 1, 1, 1, 1, 1,\n",
       "         1, 1, 1, 1, 1, 1, 1, 1, 1, 1, 1, 1, 1, 1, 1, 1, 1, 1, 1, 1, 1, 1, 1, 1,\n",
       "         1, 1, 1, 1, 1, 1, 1, 1, 1, 1, 1, 1, 1, 1, 1, 1, 1, 1, 1, 1, 1, 1, 1, 1,\n",
       "         1, 1, 1, 1, 1, 1, 1, 1, 1, 1, 1, 1, 1, 1, 1, 1, 1, 1, 1, 1, 1, 1, 1, 1,\n",
       "         1, 1, 1, 1, 1, 1, 1, 1, 1, 1, 1, 1, 1, 1, 1, 1, 1, 1, 1, 1, 1, 1, 1, 1,\n",
       "         1, 1, 1, 1, 1, 1, 1, 1, 1, 1, 1, 1, 1, 1, 1, 1, 1, 1, 1, 1, 1, 1, 1, 1,\n",
       "         1, 1, 1, 1, 1, 1, 1, 1, 1, 1, 1, 1, 1, 1, 1, 1, 1, 1, 1, 1, 1, 1, 1, 1,\n",
       "         1, 1, 1, 1, 1, 1, 1, 1, 1, 1, 1, 1, 1, 1, 1, 1, 1, 1, 1, 1, 1, 1, 1, 1,\n",
       "         1, 1, 1, 1, 1, 1, 1, 1, 1, 1, 1, 1, 1, 1, 1, 1, 1, 1, 1, 1, 1, 1, 1, 1,\n",
       "         1, 1, 1, 1, 1, 1, 1, 1, 1]]), 'length': tensor([297]), 'overflow_to_sample_mapping': tensor([0])}"
      ]
     },
     "execution_count": 157,
     "metadata": {},
     "output_type": "execute_result"
    }
   ],
   "source": [
    "outputs"
   ]
  },
  {
   "cell_type": "code",
   "execution_count": 158,
   "metadata": {},
   "outputs": [
    {
     "data": {
      "text/plain": [
       "LlamaForCausalLM(\n",
       "  (model): LlamaModel(\n",
       "    (embed_tokens): Embedding(46336, 4096, padding_idx=2)\n",
       "    (layers): ModuleList(\n",
       "      (0-31): 32 x LlamaDecoderLayer(\n",
       "        (self_attn): LlamaSdpaAttention(\n",
       "          (q_proj): Linear(in_features=4096, out_features=4096, bias=False)\n",
       "          (k_proj): Linear(in_features=4096, out_features=4096, bias=False)\n",
       "          (v_proj): Linear(in_features=4096, out_features=4096, bias=False)\n",
       "          (o_proj): Linear(in_features=4096, out_features=4096, bias=False)\n",
       "          (rotary_emb): LlamaRotaryEmbedding()\n",
       "        )\n",
       "        (mlp): LlamaMLP(\n",
       "          (gate_proj): Linear(in_features=4096, out_features=11008, bias=False)\n",
       "          (up_proj): Linear(in_features=4096, out_features=11008, bias=False)\n",
       "          (down_proj): Linear(in_features=11008, out_features=4096, bias=False)\n",
       "          (act_fn): SiLU()\n",
       "        )\n",
       "        (input_layernorm): LlamaRMSNorm()\n",
       "        (post_attention_layernorm): LlamaRMSNorm()\n",
       "      )\n",
       "    )\n",
       "    (norm): LlamaRMSNorm()\n",
       "  )\n",
       "  (lm_head): Linear(in_features=4096, out_features=46336, bias=False)\n",
       ")"
      ]
     },
     "execution_count": 158,
     "metadata": {},
     "output_type": "execute_result"
    }
   ],
   "source": [
    "model.to('cuda')"
   ]
  },
  {
   "cell_type": "code",
   "execution_count": 159,
   "metadata": {},
   "outputs": [
    {
     "data": {
      "text/plain": [
       "tensor(298)"
      ]
     },
     "execution_count": 159,
     "metadata": {},
     "output_type": "execute_result"
    }
   ],
   "source": [
    "outputs['length'][0] + 1"
   ]
  },
  {
   "cell_type": "code",
   "execution_count": 163,
   "metadata": {},
   "outputs": [],
   "source": [
    "from transformers import GenerationConfig\n",
    "\n",
    "\n",
    "generate_config = GenerationConfig(\n",
    "        pad_token_id = tokenizer.eos_token_id,\n",
    "        do_sample=True,\n",
    "        top_k=10,\n",
    "        top_p = 0.9,\n",
    "        num_return_sequences=1,\n",
    "        repetition_penalty=1.1,\n",
    "        max_new_tokens=outputs['length'][0] + 10,\n",
    "        temperature = 0.8\n",
    "    )\n",
    "\n",
    "\n",
    "\n",
    "\n"
   ]
  },
  {
   "cell_type": "code",
   "execution_count": 161,
   "metadata": {},
   "outputs": [
    {
     "name": "stdout",
     "output_type": "stream",
     "text": [
      "you are financial speciallist. And you will see ###condition of one person. and judge his/her Credit rating\n",
      "response about ###instruction \n",
      "\n",
      "###Condition\n",
      "he/she owe $ 16800000 , take out a loan during 36 months. \n",
      "He/she works for 8 years. Status of home ownership is MORTGAGE\n",
      "His/her annual income was about 132000000. His/her total debt/income ratio was 19.640000 \n",
      "He/she have total 12 accounts, and he/she take out a loan for housing improvement.\n",
      "He/she overdue of interest 0 times over last 2 year.\n",
      "His/Her total redemption principal $ 394692. His/Her total interst pay $ 146604.000000 \n",
      "His/Her total overdue payment $ 0.000000. He/She have 0.000000 overdue account for total \n",
      "\n",
      "###instruction: with those conditions, Guess His Credit Rating in one of A,B,C,D,E,F,G \n",
      "\n",
      "\n",
      "###Credit Rating : \n",
      "\n",
      "#@시스템#사진#\n",
      "#@이모티콘#\n",
      "오케이~~^^❤️\n"
     ]
    }
   ],
   "source": [
    "\n",
    "# Generate\n",
    "generate_ids = model.generate(input_ids = outputs.input_ids.to('cuda'),\n",
    "                              attention_mask = outputs.attention_mask.to('cuda')\n",
    "                              , generation_config= generate_config)\n",
    "\n",
    "\n",
    "result = tokenizer.batch_decode(generate_ids, skip_special_tokens=True, clean_up_tokenization_spaces=False)[0]\n",
    "print(result)"
   ]
  },
  {
   "cell_type": "code",
   "execution_count": 162,
   "metadata": {},
   "outputs": [
    {
     "data": {
      "text/plain": [
       "'left'"
      ]
     },
     "execution_count": 162,
     "metadata": {},
     "output_type": "execute_result"
    }
   ],
   "source": [
    "tokenizer.padding_side"
   ]
  },
  {
   "cell_type": "code",
   "execution_count": 164,
   "metadata": {},
   "outputs": [],
   "source": [
    "outputs = tokenizer(\n",
    "    dataset['test']['input'][10],\n",
    "    truncation=True,\n",
    "    max_length=2048,\n",
    "    return_overflowing_tokens=True, # 자른 나머지를 버리는 것이 아닌 추후에 다시 사용하는 것을 의미한다. \n",
    "    return_length=True, # 길이를 같이 return 하게 된다.\n",
    "    return_tensors = 'pt'\n",
    ")"
   ]
  },
  {
   "cell_type": "code",
   "execution_count": 165,
   "metadata": {},
   "outputs": [
    {
     "name": "stdout",
     "output_type": "stream",
     "text": [
      "you are financial speciallist. And you will see ###condition of one person. and judge his/her Credit rating\n",
      "response about ###instruction \n",
      "\n",
      "###Condition\n",
      "he/she owe $ 16800000 , take out a loan during 60 months. \n",
      "He/she works for 10 years. Status of home ownership is MORTGAGE\n",
      "His/her annual income was about 82680000. His/her total debt/income ratio was 21.960000 \n",
      "He/she have total 27 accounts, and he/she take out a loan for debt consolidation.\n",
      "He/she overdue of interest 0 times over last 2 year.\n",
      "His/Her total redemption principal $ 199284. His/Her total interst pay $ 159924.000000 \n",
      "His/Her total overdue payment $ 0.000000. He/She have 0.000000 overdue account for total \n",
      "\n",
      "###instruction: with those conditions, Guess His Credit Rating in one of A,B,C,D,E,F,G \n",
      "\n",
      "\n",
      "###Credit Rating : \n",
      "\n",
      "Guess the credit rating of A person\n",
      "\n",
      "I think his credit rating is CCC+ \n",
      "\n",
      "###Condition:\n",
      "A person owe $ 16800000 , take out a loan during 60 months. \n",
      "He/she works for 10 years. Status of home ownership is MORTGAGE\n",
      "His/her annual income was about 82680000. His/his total debt/income ratio was 21.960000 \n",
      "He/she have total 27 accounts, and he/she take out a loan for debt consolidation.\n",
      "He/she overdue of interest 0 times over last 2 year.\n",
      "His/Her total redemption principal $ 199284. His/Her total interst pay $ 159924.000000 \n",
      "His/Her total overdue payment $ 0.000000. He/She have 0.000000 overdue account for total \n",
      "\n",
      "###Credit Rating : \n",
      "\n",
      "Guess the credit rating of B person\n",
      "\n",
      "I think his credit rating is CCC \n",
      "\n",
      "###Condition:\n",
      "B person owe $ 16800000 , take out a loan during 60 months. \n",
      "He/she works\n"
     ]
    }
   ],
   "source": [
    "generate_ids = model.generate(input_ids = outputs.input_ids.to('cuda'),\n",
    "                              attention_mask = outputs.attention_mask.to('cuda')\n",
    "                              , generation_config= generate_config)\n",
    "\n",
    "\n",
    "result = tokenizer.batch_decode(generate_ids, skip_special_tokens=True, clean_up_tokenization_spaces=False)[0]\n",
    "print(result)"
   ]
  },
  {
   "cell_type": "code",
   "execution_count": 166,
   "metadata": {},
   "outputs": [
    {
     "name": "stdout",
     "output_type": "stream",
     "text": [
      "you are financial speciallist. And you will see ###condition of one person. and judge his/her Credit rating\n",
      "response about ###instruction \n",
      "\n",
      "###Condition\n",
      "he/she owe $ 16800000 , take out a loan during 60 months. \n",
      "He/she works for 10 years. Status of home ownership is MORTGAGE\n",
      "His/her annual income was about 82680000. His/her total debt/income ratio was 21.960000 \n",
      "He/she have total 27 accounts, and he/she take out a loan for debt consolidation.\n",
      "He/she overdue of interest 0 times over last 2 year.\n",
      "His/Her total redemption principal $ 199284. His/Her total interst pay $ 159924.000000 \n",
      "His/Her total overdue payment $ 0.000000. He/She have 0.000000 overdue account for total \n",
      "\n",
      "###instruction: with those conditions, Guess His Credit Rating in one of A,B,C,D,E,F,G \n",
      "\n",
      "\n",
      "###Credit Rating : \n",
      "\n",
      "Guess the credit rating of A person\n",
      "\n",
      "I think his credit rating is CCC+ \n",
      "\n",
      "###Condition:\n",
      "A person owe $ 16800000 , take out a loan during 60 months. \n",
      "He/she works for 10 years. Status of home ownership is MORTGAGE\n",
      "His/her annual income was about 82680000. His/his total debt/income ratio was 21.960000 \n",
      "He/she have total 27 accounts, and he/she take out a loan for debt consolidation.\n",
      "He/she overdue of interest 0 times over last 2 year.\n",
      "His/Her total redemption principal $ 199284. His/Her total interst pay $ 159924.000000 \n",
      "His/Her total overdue payment $ 0.000000. He/She have 0.000000 overdue account for total \n",
      "\n",
      "###Credit Rating : \n",
      "\n",
      "Guess the credit rating of B person\n",
      "\n",
      "I think his credit rating is CCC \n",
      "\n",
      "###Condition:\n",
      "B person owe $ 16800000 , take out a loan during 60 months. \n",
      "He/she works\n"
     ]
    }
   ],
   "source": [
    "print(result)"
   ]
  },
  {
   "cell_type": "markdown",
   "metadata": {},
   "source": [
    "### PEFT 를 통한 Instruction Tuning 하기"
   ]
  },
  {
   "cell_type": "code",
   "execution_count": 31,
   "metadata": {},
   "outputs": [],
   "source": [
    "import torch\n",
    "\n",
    "device = torch.device('cuda' if torch.cuda.is_available() else 'cpu')\n",
    "device\n",
    "\n",
    "\n",
    "from transformers import BitsAndBytesConfig\n",
    "from transformers import LlamaForCausalLM\n",
    "from transformers import AutoTokenizer"
   ]
  },
  {
   "cell_type": "code",
   "execution_count": 32,
   "metadata": {},
   "outputs": [
    {
     "data": {
      "text/plain": [
       "599"
      ]
     },
     "execution_count": 32,
     "metadata": {},
     "output_type": "execute_result"
    }
   ],
   "source": [
    "import gc\n",
    "torch.cuda.empty_cache()\n",
    "gc.collect()"
   ]
  },
  {
   "cell_type": "code",
   "execution_count": 33,
   "metadata": {},
   "outputs": [],
   "source": [
    "use_4bit = True"
   ]
  },
  {
   "cell_type": "code",
   "execution_count": 34,
   "metadata": {},
   "outputs": [],
   "source": [
    "bnb_config = BitsAndBytesConfig(\n",
    "    load_in_4bit=True,\n",
    "    bnb_4bit_use_double_quant=True,\n",
    "    bnb_4bit_quant_type=\"nf4\",\n",
    "    bnb_4bit_compute_dtype=torch.bfloat16,\n",
    ")"
   ]
  },
  {
   "cell_type": "code",
   "execution_count": 66,
   "metadata": {},
   "outputs": [],
   "source": [
    "bnb_4bit_compute_dtype = \"bfloat16\"\n"
   ]
  },
  {
   "cell_type": "code",
   "execution_count": 67,
   "metadata": {},
   "outputs": [
    {
     "data": {
      "text/plain": [
       "torch.bfloat16"
      ]
     },
     "execution_count": 67,
     "metadata": {},
     "output_type": "execute_result"
    }
   ],
   "source": [
    "compute_dtype = getattr(torch, bnb_4bit_compute_dtype)\n",
    "compute_dtype"
   ]
  },
  {
   "cell_type": "code",
   "execution_count": 68,
   "metadata": {},
   "outputs": [
    {
     "name": "stdout",
     "output_type": "stream",
     "text": [
      "================================================================================\n",
      "Your GPU supports bfloat16: accelerate training with bf16=True\n",
      "================================================================================\n"
     ]
    }
   ],
   "source": [
    "# Check GPU compatibility with bfloat16\n",
    "if compute_dtype == torch.bfloat16 and use_4bit:\n",
    "    major, _ = torch.cuda.get_device_capability()\n",
    "    if major >= 8:\n",
    "        print(\"=\" * 80)\n",
    "        print(\"Your GPU supports bfloat16: accelerate training with bf16=True\")\n",
    "        print(\"=\" * 80)"
   ]
  },
  {
   "cell_type": "code",
   "execution_count": 69,
   "metadata": {},
   "outputs": [
    {
     "data": {
      "application/vnd.jupyter.widget-view+json": {
       "model_id": "8c3cd68f47a24071b83674d8302ba778",
       "version_major": 2,
       "version_minor": 0
      },
      "text/plain": [
       "Loading checkpoint shards:   0%|          | 0/5 [00:00<?, ?it/s]"
      ]
     },
     "metadata": {},
     "output_type": "display_data"
    }
   ],
   "source": [
    "base_model = \"beomi/open-llama-2-ko-7b\"\n",
    "\n",
    "\n",
    "tokenizer = AutoTokenizer.from_pretrained(base_model)\n",
    "\n",
    "model = LlamaForCausalLM.from_pretrained(base_model, quantization_config=bnb_config, device_map = 'auto')\n"
   ]
  },
  {
   "cell_type": "code",
   "execution_count": 70,
   "metadata": {},
   "outputs": [],
   "source": [
    "from peft import get_peft_model, LoraConfig, TaskType, prepare_model_for_kbit_training"
   ]
  },
  {
   "cell_type": "code",
   "execution_count": 71,
   "metadata": {},
   "outputs": [],
   "source": [
    "list(TaskType)\n",
    "\n",
    "\n",
    "model = prepare_model_for_kbit_training(model, use_gradient_checkpointing=True)  # Explicitly specify!\n"
   ]
  },
  {
   "cell_type": "code",
   "execution_count": 72,
   "metadata": {},
   "outputs": [
    {
     "data": {
      "text/plain": [
       "[<TaskType.SEQ_CLS: 'SEQ_CLS'>,\n",
       " <TaskType.SEQ_2_SEQ_LM: 'SEQ_2_SEQ_LM'>,\n",
       " <TaskType.CAUSAL_LM: 'CAUSAL_LM'>,\n",
       " <TaskType.TOKEN_CLS: 'TOKEN_CLS'>,\n",
       " <TaskType.QUESTION_ANS: 'QUESTION_ANS'>,\n",
       " <TaskType.FEATURE_EXTRACTION: 'FEATURE_EXTRACTION'>]"
      ]
     },
     "execution_count": 72,
     "metadata": {},
     "output_type": "execute_result"
    }
   ],
   "source": [
    "list(TaskType)"
   ]
  },
  {
   "cell_type": "code",
   "execution_count": 73,
   "metadata": {},
   "outputs": [
    {
     "data": {
      "text/plain": [
       "['k_proj', 'o_proj', 'gate_proj', 'down_proj', 'v_proj', 'up_proj', 'q_proj']"
      ]
     },
     "execution_count": 73,
     "metadata": {},
     "output_type": "execute_result"
    }
   ],
   "source": [
    "import bitsandbytes as bnb\n",
    "\n",
    "def find_all_linear_names(model):\n",
    "    cls = bnb.nn.Linear4bit #if args.bits == 4 else (bnb.nn.Linear8bitLt if args.bits == 8 else torch.nn.Linear)\n",
    "    lora_module_names = set()\n",
    "    for name, module in model.named_modules():\n",
    "        if isinstance(module, cls):\n",
    "            names = name.split('.')\n",
    "            lora_module_names.add(names[0] if len(names) == 1 else names[-1])\n",
    "\n",
    "\n",
    "    # lm_head is often excluded.\n",
    "    if 'lm_head' in lora_module_names:  # needed for 16-bit\n",
    "        lora_module_names.remove('lm_head')\n",
    "    return list(lora_module_names)\n",
    "\n",
    "\n",
    "modules = find_all_linear_names(model)\n",
    "modules"
   ]
  },
  {
   "cell_type": "code",
   "execution_count": null,
   "metadata": {},
   "outputs": [],
   "source": []
  },
  {
   "cell_type": "code",
   "execution_count": null,
   "metadata": {},
   "outputs": [],
   "source": []
  },
  {
   "cell_type": "code",
   "execution_count": 74,
   "metadata": {},
   "outputs": [],
   "source": [
    "peft_config = LoraConfig(task_type=TaskType.CAUSAL_LM,\n",
    "                        inference_mode=False, # 학습하는지  \n",
    "                        r=8, # 작을 수록 trainable 한 파라미터의 개수가 낮아진ㄷ.ㅏ  \n",
    "                        lora_alpha=16,  # scaling factor \n",
    "                        lora_dropout=0.1) # dropout \n",
    "\n",
    "model = get_peft_model(model, peft_config)\n"
   ]
  },
  {
   "cell_type": "code",
   "execution_count": 75,
   "metadata": {},
   "outputs": [
    {
     "name": "stdout",
     "output_type": "stream",
     "text": [
      "Trainable: 4194304 | total: 6860050432 | Percentage: 0.0611%\n"
     ]
    }
   ],
   "source": [
    "trainable, total = model.get_nb_trainable_parameters()\n",
    "print(f\"Trainable: {trainable} | total: {total} | Percentage: {trainable/total*100:.4f}%\")\n"
   ]
  },
  {
   "cell_type": "code",
   "execution_count": 76,
   "metadata": {},
   "outputs": [
    {
     "name": "stdout",
     "output_type": "stream",
     "text": [
      "trainable params: 4,194,304 || all params: 6,860,050,432 || trainable%: 0.06114100824149743\n"
     ]
    }
   ],
   "source": [
    "model.print_trainable_parameters()"
   ]
  },
  {
   "cell_type": "code",
   "execution_count": 77,
   "metadata": {},
   "outputs": [
    {
     "name": "stdout",
     "output_type": "stream",
     "text": [
      "Found max length: 2048\n",
      "2048\n"
     ]
    }
   ],
   "source": [
    "def get_max_length(model):\n",
    "    conf = model.config\n",
    "    max_length = None\n",
    "    for length_setting in [\"n_positions\", \"max_position_embeddings\", \"seq_length\"]:\n",
    "        max_length = getattr(model.config, length_setting, None)\n",
    "        if max_length:\n",
    "            print(f\"Found max length: {max_length}\")\n",
    "            break\n",
    "    if not max_length:\n",
    "        max_length = 1024\n",
    "        print(f\"Using default max length: {max_length}\")\n",
    "    return max_length\n",
    "\n",
    "\n",
    "# Change the max length depending on hardware constraints.\n",
    "max_length = get_max_length(model)\n",
    "print(max_length)"
   ]
  },
  {
   "cell_type": "code",
   "execution_count": 78,
   "metadata": {},
   "outputs": [],
   "source": [
    "tokenizer.pad_token = tokenizer.eos_token"
   ]
  },
  {
   "cell_type": "code",
   "execution_count": 79,
   "metadata": {},
   "outputs": [
    {
     "data": {
      "text/plain": [
       "DatasetDict({\n",
       "    train: Dataset({\n",
       "        features: ['ID', '대출금액', '대출기간', '근로기간', '주택소유상태', '연간소득', '부채_대비_소득_비율', '총계좌수', '대출목적', '최근_2년간_연체_횟수', '총상환원금', '총상환이자', '총연체금액', '연체계좌수', '대출등급', 'input'],\n",
       "        num_rows: 94294\n",
       "    })\n",
       "    val: Dataset({\n",
       "        features: ['ID', '대출금액', '대출기간', '근로기간', '주택소유상태', '연간소득', '부채_대비_소득_비율', '총계좌수', '대출목적', '최근_2년간_연체_횟수', '총상환원금', '총상환이자', '총연체금액', '연체계좌수', '대출등급', 'input'],\n",
       "        num_rows: 2000\n",
       "    })\n",
       "    test: Dataset({\n",
       "        features: ['ID', '대출금액', '대출기간', '근로기간', '주택소유상태', '연간소득', '부채_대비_소득_비율', '총계좌수', '대출목적', '최근_2년간_연체_횟수', '총상환원금', '총상환이자', '총연체금액', '연체계좌수', 'input'],\n",
       "        num_rows: 64197\n",
       "    })\n",
       "})"
      ]
     },
     "execution_count": 79,
     "metadata": {},
     "output_type": "execute_result"
    }
   ],
   "source": [
    "dataset"
   ]
  },
  {
   "cell_type": "code",
   "execution_count": 80,
   "metadata": {},
   "outputs": [
    {
     "data": {
      "application/vnd.jupyter.widget-view+json": {
       "model_id": "4d67efcd710e43ed9ce307a83167d0b6",
       "version_major": 2,
       "version_minor": 0
      },
      "text/plain": [
       "Map:   0%|          | 0/94294 [00:00<?, ? examples/s]"
      ]
     },
     "metadata": {},
     "output_type": "display_data"
    }
   ],
   "source": [
    "def tokenize(element):\n",
    "    \n",
    "    outputs = tokenizer(\n",
    "        element['input'],\n",
    "        truncation=True,\n",
    "        max_length=2048\n",
    "    )\n",
    "\n",
    "    return {\"input_ids\": outputs[\"input_ids\"]}\n",
    "\n",
    "\n",
    "tokenized_datasets = dataset['train'].map(\n",
    "    tokenize, batched=True, remove_columns=dataset['train'].column_names\n",
    ")\n"
   ]
  },
  {
   "cell_type": "code",
   "execution_count": 81,
   "metadata": {},
   "outputs": [
    {
     "data": {
      "text/plain": [
       "Dataset({\n",
       "    features: ['input_ids'],\n",
       "    num_rows: 94294\n",
       "})"
      ]
     },
     "execution_count": 81,
     "metadata": {},
     "output_type": "execute_result"
    }
   ],
   "source": [
    "tokenized_datasets"
   ]
  },
  {
   "cell_type": "code",
   "execution_count": 82,
   "metadata": {},
   "outputs": [
    {
     "data": {
      "application/vnd.jupyter.widget-view+json": {
       "model_id": "0e74722ca31849038c002b8e35846a9c",
       "version_major": 2,
       "version_minor": 0
      },
      "text/plain": [
       "Map:   0%|          | 0/2000 [00:00<?, ? examples/s]"
      ]
     },
     "metadata": {},
     "output_type": "display_data"
    }
   ],
   "source": [
    "val_tokenized_datasets = dataset['val'].map(\n",
    "    tokenize, batched=True, remove_columns=dataset['val'].column_names\n",
    ")"
   ]
  },
  {
   "cell_type": "code",
   "execution_count": 83,
   "metadata": {},
   "outputs": [],
   "source": [
    "from transformers import DataCollatorForLanguageModeling\n",
    "\n",
    "data_collator = DataCollatorForLanguageModeling(tokenizer, mlm=False)\n"
   ]
  },
  {
   "cell_type": "code",
   "execution_count": 84,
   "metadata": {},
   "outputs": [],
   "source": [
    "model.config.use_cache = False\n"
   ]
  },
  {
   "cell_type": "code",
   "execution_count": 85,
   "metadata": {},
   "outputs": [],
   "source": [
    "from transformers import Trainer, TrainingArguments\n",
    "\n",
    "args = TrainingArguments(\n",
    "    output_dir=\"peftllama0116\",\n",
    "    per_device_train_batch_size=4,\n",
    "    per_device_eval_batch_size=4,\n",
    "    evaluation_strategy=\"steps\",\n",
    "    eval_steps=3000,\n",
    "    logging_steps=100,\n",
    "    gradient_accumulation_steps=4,\n",
    "    num_train_epochs=3,\n",
    "    weight_decay=0.1,\n",
    "    warmup_steps=1_000,\n",
    "    lr_scheduler_type=\"cosine\",\n",
    "    learning_rate=5e-4,\n",
    "    fp16=True,\n",
    "    push_to_hub=False,\n",
    "    optim = \"adamw_torch\",\n",
    "    save_strategy = \"steps\",\n",
    "    save_steps = 1000,\n",
    "    save_total_limit=2\n",
    "\n",
    ")\n",
    "\n",
    "trainer = Trainer(\n",
    "    model=model,\n",
    "    tokenizer=tokenizer,\n",
    "    args=args,\n",
    "    data_collator=data_collator,\n",
    "    train_dataset=tokenized_datasets,\n",
    "    eval_dataset=val_tokenized_datasets\n",
    ")"
   ]
  },
  {
   "cell_type": "code",
   "execution_count": 86,
   "metadata": {},
   "outputs": [
    {
     "name": "stderr",
     "output_type": "stream",
     "text": [
      "You're using a LlamaTokenizerFast tokenizer. Please note that with a fast tokenizer, using the `__call__` method is faster than using a method to encode the text followed by a call to the `pad` method to get a padded encoding.\n",
      "/home/vitruv/anaconda3/envs/mingyu/lib/python3.11/site-packages/torch/utils/checkpoint.py:429: UserWarning: torch.utils.checkpoint: please pass in use_reentrant=True or use_reentrant=False explicitly. The default value of use_reentrant will be updated to be False in the future. To maintain current behavior, pass use_reentrant=True. It is recommended that you use use_reentrant=False. Refer to docs for more details on the differences between the two variants.\n",
      "  warnings.warn(\n"
     ]
    },
    {
     "data": {
      "text/html": [
       "\n",
       "    <div>\n",
       "      \n",
       "      <progress value='17011' max='17679' style='width:300px; height:20px; vertical-align: middle;'></progress>\n",
       "      [17011/17679 00:28 < 35:16, 0.32 it/s, Epoch 2.89/3]\n",
       "    </div>\n",
       "    <table border=\"1\" class=\"dataframe\">\n",
       "  <thead>\n",
       " <tr style=\"text-align: left;\">\n",
       "      <th>Step</th>\n",
       "      <th>Training Loss</th>\n",
       "      <th>Validation Loss</th>\n",
       "    </tr>\n",
       "  </thead>\n",
       "  <tbody>\n",
       "  </tbody>\n",
       "</table><p>"
      ],
      "text/plain": [
       "<IPython.core.display.HTML object>"
      ]
     },
     "metadata": {},
     "output_type": "display_data"
    },
    {
     "ename": "KeyboardInterrupt",
     "evalue": "",
     "output_type": "error",
     "traceback": [
      "\u001b[0;31m---------------------------------------------------------------------------\u001b[0m",
      "\u001b[0;31mKeyboardInterrupt\u001b[0m                         Traceback (most recent call last)",
      "Cell \u001b[0;32mIn[86], line 1\u001b[0m\n\u001b[0;32m----> 1\u001b[0m \u001b[43mtrainer\u001b[49m\u001b[38;5;241;43m.\u001b[39;49m\u001b[43mtrain\u001b[49m\u001b[43m(\u001b[49m\u001b[43mresume_from_checkpoint\u001b[49m\u001b[38;5;241;43m=\u001b[39;49m\u001b[38;5;124;43m'\u001b[39;49m\u001b[38;5;124;43mpeftllama0116/checkpoint-17000\u001b[39;49m\u001b[38;5;124;43m'\u001b[39;49m\u001b[43m)\u001b[49m\n",
      "File \u001b[0;32m~/anaconda3/envs/mingyu/lib/python3.11/site-packages/transformers/trainer.py:1537\u001b[0m, in \u001b[0;36mTrainer.train\u001b[0;34m(self, resume_from_checkpoint, trial, ignore_keys_for_eval, **kwargs)\u001b[0m\n\u001b[1;32m   1535\u001b[0m         hf_hub_utils\u001b[38;5;241m.\u001b[39menable_progress_bars()\n\u001b[1;32m   1536\u001b[0m \u001b[38;5;28;01melse\u001b[39;00m:\n\u001b[0;32m-> 1537\u001b[0m     \u001b[38;5;28;01mreturn\u001b[39;00m \u001b[43minner_training_loop\u001b[49m\u001b[43m(\u001b[49m\n\u001b[1;32m   1538\u001b[0m \u001b[43m        \u001b[49m\u001b[43margs\u001b[49m\u001b[38;5;241;43m=\u001b[39;49m\u001b[43margs\u001b[49m\u001b[43m,\u001b[49m\n\u001b[1;32m   1539\u001b[0m \u001b[43m        \u001b[49m\u001b[43mresume_from_checkpoint\u001b[49m\u001b[38;5;241;43m=\u001b[39;49m\u001b[43mresume_from_checkpoint\u001b[49m\u001b[43m,\u001b[49m\n\u001b[1;32m   1540\u001b[0m \u001b[43m        \u001b[49m\u001b[43mtrial\u001b[49m\u001b[38;5;241;43m=\u001b[39;49m\u001b[43mtrial\u001b[49m\u001b[43m,\u001b[49m\n\u001b[1;32m   1541\u001b[0m \u001b[43m        \u001b[49m\u001b[43mignore_keys_for_eval\u001b[49m\u001b[38;5;241;43m=\u001b[39;49m\u001b[43mignore_keys_for_eval\u001b[49m\u001b[43m,\u001b[49m\n\u001b[1;32m   1542\u001b[0m \u001b[43m    \u001b[49m\u001b[43m)\u001b[49m\n",
      "File \u001b[0;32m~/anaconda3/envs/mingyu/lib/python3.11/site-packages/transformers/trainer.py:1854\u001b[0m, in \u001b[0;36mTrainer._inner_training_loop\u001b[0;34m(self, batch_size, args, resume_from_checkpoint, trial, ignore_keys_for_eval)\u001b[0m\n\u001b[1;32m   1851\u001b[0m     \u001b[38;5;28mself\u001b[39m\u001b[38;5;241m.\u001b[39mcontrol \u001b[38;5;241m=\u001b[39m \u001b[38;5;28mself\u001b[39m\u001b[38;5;241m.\u001b[39mcallback_handler\u001b[38;5;241m.\u001b[39mon_step_begin(args, \u001b[38;5;28mself\u001b[39m\u001b[38;5;241m.\u001b[39mstate, \u001b[38;5;28mself\u001b[39m\u001b[38;5;241m.\u001b[39mcontrol)\n\u001b[1;32m   1853\u001b[0m \u001b[38;5;28;01mwith\u001b[39;00m \u001b[38;5;28mself\u001b[39m\u001b[38;5;241m.\u001b[39maccelerator\u001b[38;5;241m.\u001b[39maccumulate(model):\n\u001b[0;32m-> 1854\u001b[0m     tr_loss_step \u001b[38;5;241m=\u001b[39m \u001b[38;5;28;43mself\u001b[39;49m\u001b[38;5;241;43m.\u001b[39;49m\u001b[43mtraining_step\u001b[49m\u001b[43m(\u001b[49m\u001b[43mmodel\u001b[49m\u001b[43m,\u001b[49m\u001b[43m \u001b[49m\u001b[43minputs\u001b[49m\u001b[43m)\u001b[49m\n\u001b[1;32m   1856\u001b[0m \u001b[38;5;28;01mif\u001b[39;00m (\n\u001b[1;32m   1857\u001b[0m     args\u001b[38;5;241m.\u001b[39mlogging_nan_inf_filter\n\u001b[1;32m   1858\u001b[0m     \u001b[38;5;129;01mand\u001b[39;00m \u001b[38;5;129;01mnot\u001b[39;00m is_torch_tpu_available()\n\u001b[1;32m   1859\u001b[0m     \u001b[38;5;129;01mand\u001b[39;00m (torch\u001b[38;5;241m.\u001b[39misnan(tr_loss_step) \u001b[38;5;129;01mor\u001b[39;00m torch\u001b[38;5;241m.\u001b[39misinf(tr_loss_step))\n\u001b[1;32m   1860\u001b[0m ):\n\u001b[1;32m   1861\u001b[0m     \u001b[38;5;66;03m# if loss is nan or inf simply add the average of previous logged losses\u001b[39;00m\n\u001b[1;32m   1862\u001b[0m     tr_loss \u001b[38;5;241m+\u001b[39m\u001b[38;5;241m=\u001b[39m tr_loss \u001b[38;5;241m/\u001b[39m (\u001b[38;5;241m1\u001b[39m \u001b[38;5;241m+\u001b[39m \u001b[38;5;28mself\u001b[39m\u001b[38;5;241m.\u001b[39mstate\u001b[38;5;241m.\u001b[39mglobal_step \u001b[38;5;241m-\u001b[39m \u001b[38;5;28mself\u001b[39m\u001b[38;5;241m.\u001b[39m_globalstep_last_logged)\n",
      "File \u001b[0;32m~/anaconda3/envs/mingyu/lib/python3.11/site-packages/transformers/trainer.py:2744\u001b[0m, in \u001b[0;36mTrainer.training_step\u001b[0;34m(self, model, inputs)\u001b[0m\n\u001b[1;32m   2742\u001b[0m         scaled_loss\u001b[38;5;241m.\u001b[39mbackward()\n\u001b[1;32m   2743\u001b[0m \u001b[38;5;28;01melse\u001b[39;00m:\n\u001b[0;32m-> 2744\u001b[0m     \u001b[38;5;28;43mself\u001b[39;49m\u001b[38;5;241;43m.\u001b[39;49m\u001b[43maccelerator\u001b[49m\u001b[38;5;241;43m.\u001b[39;49m\u001b[43mbackward\u001b[49m\u001b[43m(\u001b[49m\u001b[43mloss\u001b[49m\u001b[43m)\u001b[49m\n\u001b[1;32m   2746\u001b[0m \u001b[38;5;28;01mreturn\u001b[39;00m loss\u001b[38;5;241m.\u001b[39mdetach() \u001b[38;5;241m/\u001b[39m \u001b[38;5;28mself\u001b[39m\u001b[38;5;241m.\u001b[39margs\u001b[38;5;241m.\u001b[39mgradient_accumulation_steps\n",
      "File \u001b[0;32m~/anaconda3/envs/mingyu/lib/python3.11/site-packages/accelerate/accelerator.py:1903\u001b[0m, in \u001b[0;36mAccelerator.backward\u001b[0;34m(self, loss, **kwargs)\u001b[0m\n\u001b[1;32m   1901\u001b[0m     \u001b[38;5;28;01mreturn\u001b[39;00m\n\u001b[1;32m   1902\u001b[0m \u001b[38;5;28;01melif\u001b[39;00m \u001b[38;5;28mself\u001b[39m\u001b[38;5;241m.\u001b[39mscaler \u001b[38;5;129;01mis\u001b[39;00m \u001b[38;5;129;01mnot\u001b[39;00m \u001b[38;5;28;01mNone\u001b[39;00m:\n\u001b[0;32m-> 1903\u001b[0m     \u001b[38;5;28;43mself\u001b[39;49m\u001b[38;5;241;43m.\u001b[39;49m\u001b[43mscaler\u001b[49m\u001b[38;5;241;43m.\u001b[39;49m\u001b[43mscale\u001b[49m\u001b[43m(\u001b[49m\u001b[43mloss\u001b[49m\u001b[43m)\u001b[49m\u001b[38;5;241;43m.\u001b[39;49m\u001b[43mbackward\u001b[49m\u001b[43m(\u001b[49m\u001b[38;5;241;43m*\u001b[39;49m\u001b[38;5;241;43m*\u001b[39;49m\u001b[43mkwargs\u001b[49m\u001b[43m)\u001b[49m\n\u001b[1;32m   1904\u001b[0m \u001b[38;5;28;01melse\u001b[39;00m:\n\u001b[1;32m   1905\u001b[0m     loss\u001b[38;5;241m.\u001b[39mbackward(\u001b[38;5;241m*\u001b[39m\u001b[38;5;241m*\u001b[39mkwargs)\n",
      "File \u001b[0;32m~/anaconda3/envs/mingyu/lib/python3.11/site-packages/torch/_tensor.py:492\u001b[0m, in \u001b[0;36mTensor.backward\u001b[0;34m(self, gradient, retain_graph, create_graph, inputs)\u001b[0m\n\u001b[1;32m    482\u001b[0m \u001b[38;5;28;01mif\u001b[39;00m has_torch_function_unary(\u001b[38;5;28mself\u001b[39m):\n\u001b[1;32m    483\u001b[0m     \u001b[38;5;28;01mreturn\u001b[39;00m handle_torch_function(\n\u001b[1;32m    484\u001b[0m         Tensor\u001b[38;5;241m.\u001b[39mbackward,\n\u001b[1;32m    485\u001b[0m         (\u001b[38;5;28mself\u001b[39m,),\n\u001b[0;32m   (...)\u001b[0m\n\u001b[1;32m    490\u001b[0m         inputs\u001b[38;5;241m=\u001b[39minputs,\n\u001b[1;32m    491\u001b[0m     )\n\u001b[0;32m--> 492\u001b[0m \u001b[43mtorch\u001b[49m\u001b[38;5;241;43m.\u001b[39;49m\u001b[43mautograd\u001b[49m\u001b[38;5;241;43m.\u001b[39;49m\u001b[43mbackward\u001b[49m\u001b[43m(\u001b[49m\n\u001b[1;32m    493\u001b[0m \u001b[43m    \u001b[49m\u001b[38;5;28;43mself\u001b[39;49m\u001b[43m,\u001b[49m\u001b[43m \u001b[49m\u001b[43mgradient\u001b[49m\u001b[43m,\u001b[49m\u001b[43m \u001b[49m\u001b[43mretain_graph\u001b[49m\u001b[43m,\u001b[49m\u001b[43m \u001b[49m\u001b[43mcreate_graph\u001b[49m\u001b[43m,\u001b[49m\u001b[43m \u001b[49m\u001b[43minputs\u001b[49m\u001b[38;5;241;43m=\u001b[39;49m\u001b[43minputs\u001b[49m\n\u001b[1;32m    494\u001b[0m \u001b[43m\u001b[49m\u001b[43m)\u001b[49m\n",
      "File \u001b[0;32m~/anaconda3/envs/mingyu/lib/python3.11/site-packages/torch/autograd/__init__.py:251\u001b[0m, in \u001b[0;36mbackward\u001b[0;34m(tensors, grad_tensors, retain_graph, create_graph, grad_variables, inputs)\u001b[0m\n\u001b[1;32m    246\u001b[0m     retain_graph \u001b[38;5;241m=\u001b[39m create_graph\n\u001b[1;32m    248\u001b[0m \u001b[38;5;66;03m# The reason we repeat the same comment below is that\u001b[39;00m\n\u001b[1;32m    249\u001b[0m \u001b[38;5;66;03m# some Python versions print out the first line of a multi-line function\u001b[39;00m\n\u001b[1;32m    250\u001b[0m \u001b[38;5;66;03m# calls in the traceback and some print out the last line\u001b[39;00m\n\u001b[0;32m--> 251\u001b[0m \u001b[43mVariable\u001b[49m\u001b[38;5;241;43m.\u001b[39;49m\u001b[43m_execution_engine\u001b[49m\u001b[38;5;241;43m.\u001b[39;49m\u001b[43mrun_backward\u001b[49m\u001b[43m(\u001b[49m\u001b[43m  \u001b[49m\u001b[38;5;66;43;03m# Calls into the C++ engine to run the backward pass\u001b[39;49;00m\n\u001b[1;32m    252\u001b[0m \u001b[43m    \u001b[49m\u001b[43mtensors\u001b[49m\u001b[43m,\u001b[49m\n\u001b[1;32m    253\u001b[0m \u001b[43m    \u001b[49m\u001b[43mgrad_tensors_\u001b[49m\u001b[43m,\u001b[49m\n\u001b[1;32m    254\u001b[0m \u001b[43m    \u001b[49m\u001b[43mretain_graph\u001b[49m\u001b[43m,\u001b[49m\n\u001b[1;32m    255\u001b[0m \u001b[43m    \u001b[49m\u001b[43mcreate_graph\u001b[49m\u001b[43m,\u001b[49m\n\u001b[1;32m    256\u001b[0m \u001b[43m    \u001b[49m\u001b[43minputs\u001b[49m\u001b[43m,\u001b[49m\n\u001b[1;32m    257\u001b[0m \u001b[43m    \u001b[49m\u001b[43mallow_unreachable\u001b[49m\u001b[38;5;241;43m=\u001b[39;49m\u001b[38;5;28;43;01mTrue\u001b[39;49;00m\u001b[43m,\u001b[49m\n\u001b[1;32m    258\u001b[0m \u001b[43m    \u001b[49m\u001b[43maccumulate_grad\u001b[49m\u001b[38;5;241;43m=\u001b[39;49m\u001b[38;5;28;43;01mTrue\u001b[39;49;00m\u001b[43m,\u001b[49m\n\u001b[1;32m    259\u001b[0m \u001b[43m\u001b[49m\u001b[43m)\u001b[49m\n",
      "\u001b[0;31mKeyboardInterrupt\u001b[0m: "
     ]
    }
   ],
   "source": [
    "trainer.train(resume_from_checkpoint='peftllama0116/checkpoint-17000')"
   ]
  },
  {
   "cell_type": "code",
   "execution_count": 52,
   "metadata": {},
   "outputs": [],
   "source": [
    "model.save_pretrained('chatbot0116_adapter__')"
   ]
  },
  {
   "cell_type": "code",
   "execution_count": 53,
   "metadata": {},
   "outputs": [],
   "source": [
    "torch.save({}, 'chatbot0116_adapter__/pytorch_model.bin')"
   ]
  },
  {
   "cell_type": "markdown",
   "metadata": {},
   "source": [
    "## inference"
   ]
  },
  {
   "cell_type": "code",
   "execution_count": 41,
   "metadata": {},
   "outputs": [
    {
     "data": {
      "text/plain": [
       "'/home/vitruv/ChatBot_mg'"
      ]
     },
     "execution_count": 41,
     "metadata": {},
     "output_type": "execute_result"
    }
   ],
   "source": [
    "import os \n",
    "\n",
    "os.getcwd()"
   ]
  },
  {
   "cell_type": "code",
   "execution_count": 29,
   "metadata": {},
   "outputs": [],
   "source": [
    "from peft import PeftModel"
   ]
  },
  {
   "cell_type": "code",
   "execution_count": 30,
   "metadata": {},
   "outputs": [
    {
     "ename": "NameError",
     "evalue": "name 'BitsAndBytesConfig' is not defined",
     "output_type": "error",
     "traceback": [
      "\u001b[0;31m---------------------------------------------------------------------------\u001b[0m",
      "\u001b[0;31mNameError\u001b[0m                                 Traceback (most recent call last)",
      "Cell \u001b[0;32mIn[30], line 1\u001b[0m\n\u001b[0;32m----> 1\u001b[0m bnb_config \u001b[38;5;241m=\u001b[39m \u001b[43mBitsAndBytesConfig\u001b[49m(\n\u001b[1;32m      2\u001b[0m     load_in_4bit\u001b[38;5;241m=\u001b[39m\u001b[38;5;28;01mTrue\u001b[39;00m,\n\u001b[1;32m      3\u001b[0m     bnb_4bit_use_double_quant\u001b[38;5;241m=\u001b[39m\u001b[38;5;28;01mTrue\u001b[39;00m,\n\u001b[1;32m      4\u001b[0m     bnb_4bit_quant_type\u001b[38;5;241m=\u001b[39m\u001b[38;5;124m\"\u001b[39m\u001b[38;5;124mnf4\u001b[39m\u001b[38;5;124m\"\u001b[39m,\n\u001b[1;32m      5\u001b[0m     bnb_4bit_compute_dtype\u001b[38;5;241m=\u001b[39mtorch\u001b[38;5;241m.\u001b[39mbfloat16,\n\u001b[1;32m      6\u001b[0m )\n",
      "\u001b[0;31mNameError\u001b[0m: name 'BitsAndBytesConfig' is not defined"
     ]
    }
   ],
   "source": [
    "bnb_config = BitsAndBytesConfig(\n",
    "    load_in_4bit=True,\n",
    "    bnb_4bit_use_double_quant=True,\n",
    "    bnb_4bit_quant_type=\"nf4\",\n",
    "    bnb_4bit_compute_dtype=torch.bfloat16,\n",
    ")"
   ]
  },
  {
   "cell_type": "code",
   "execution_count": 43,
   "metadata": {},
   "outputs": [
    {
     "data": {
      "application/vnd.jupyter.widget-view+json": {
       "model_id": "000f689d2b004474a7733fc03d579d5f",
       "version_major": 2,
       "version_minor": 0
      },
      "text/plain": [
       "Loading checkpoint shards:   0%|          | 0/5 [00:00<?, ?it/s]"
      ]
     },
     "metadata": {},
     "output_type": "display_data"
    }
   ],
   "source": [
    "base_model = \"beomi/open-llama-2-ko-7b\"\n",
    "\n",
    "\n",
    "tokenizer = AutoTokenizer.from_pretrained('peftllama0116/checkpoint-17000', padding_side = 'left')\n",
    "\n",
    "fir_model = LlamaForCausalLM.from_pretrained(base_model, quantization_config=bnb_config, device_map = 'auto')\n",
    "\n"
   ]
  },
  {
   "cell_type": "code",
   "execution_count": 45,
   "metadata": {},
   "outputs": [],
   "source": [
    "model = PeftModel.from_pretrained(fir_model, \"peftllama0116/checkpoint-17000\")\n"
   ]
  },
  {
   "cell_type": "code",
   "execution_count": 56,
   "metadata": {},
   "outputs": [
    {
     "data": {
      "text/plain": [
       "PeftModelForCausalLM(\n",
       "  (base_model): LoraModel(\n",
       "    (model): LlamaForCausalLM(\n",
       "      (model): LlamaModel(\n",
       "        (embed_tokens): Embedding(46336, 4096, padding_idx=2)\n",
       "        (layers): ModuleList(\n",
       "          (0-31): 32 x LlamaDecoderLayer(\n",
       "            (self_attn): LlamaSdpaAttention(\n",
       "              (q_proj): lora.Linear(\n",
       "                (base_layer): Linear(in_features=4096, out_features=4096, bias=False)\n",
       "                (lora_dropout): ModuleDict(\n",
       "                  (default): Dropout(p=0.1, inplace=False)\n",
       "                )\n",
       "                (lora_A): ModuleDict(\n",
       "                  (default): Linear(in_features=4096, out_features=8, bias=False)\n",
       "                )\n",
       "                (lora_B): ModuleDict(\n",
       "                  (default): Linear(in_features=8, out_features=4096, bias=False)\n",
       "                )\n",
       "                (lora_embedding_A): ParameterDict()\n",
       "                (lora_embedding_B): ParameterDict()\n",
       "              )\n",
       "              (k_proj): Linear(in_features=4096, out_features=4096, bias=False)\n",
       "              (v_proj): lora.Linear(\n",
       "                (base_layer): Linear(in_features=4096, out_features=4096, bias=False)\n",
       "                (lora_dropout): ModuleDict(\n",
       "                  (default): Dropout(p=0.1, inplace=False)\n",
       "                )\n",
       "                (lora_A): ModuleDict(\n",
       "                  (default): Linear(in_features=4096, out_features=8, bias=False)\n",
       "                )\n",
       "                (lora_B): ModuleDict(\n",
       "                  (default): Linear(in_features=8, out_features=4096, bias=False)\n",
       "                )\n",
       "                (lora_embedding_A): ParameterDict()\n",
       "                (lora_embedding_B): ParameterDict()\n",
       "              )\n",
       "              (o_proj): Linear(in_features=4096, out_features=4096, bias=False)\n",
       "              (rotary_emb): LlamaRotaryEmbedding()\n",
       "            )\n",
       "            (mlp): LlamaMLP(\n",
       "              (gate_proj): Linear(in_features=4096, out_features=11008, bias=False)\n",
       "              (up_proj): Linear(in_features=4096, out_features=11008, bias=False)\n",
       "              (down_proj): Linear(in_features=11008, out_features=4096, bias=False)\n",
       "              (act_fn): SiLU()\n",
       "            )\n",
       "            (input_layernorm): LlamaRMSNorm()\n",
       "            (post_attention_layernorm): LlamaRMSNorm()\n",
       "          )\n",
       "        )\n",
       "        (norm): LlamaRMSNorm()\n",
       "      )\n",
       "      (lm_head): Linear(in_features=4096, out_features=46336, bias=False)\n",
       "    )\n",
       "  )\n",
       ")"
      ]
     },
     "execution_count": 56,
     "metadata": {},
     "output_type": "execute_result"
    }
   ],
   "source": [
    "model.to('cuda')"
   ]
  },
  {
   "cell_type": "code",
   "execution_count": 54,
   "metadata": {},
   "outputs": [
    {
     "data": {
      "text/plain": [
       "PeftModelForCausalLM(\n",
       "  (base_model): LoraModel(\n",
       "    (model): LlamaForCausalLM(\n",
       "      (model): LlamaModel(\n",
       "        (embed_tokens): Embedding(46336, 4096, padding_idx=2)\n",
       "        (layers): ModuleList(\n",
       "          (0-31): 32 x LlamaDecoderLayer(\n",
       "            (self_attn): LlamaSdpaAttention(\n",
       "              (q_proj): lora.Linear4bit(\n",
       "                (base_layer): Linear4bit(in_features=4096, out_features=4096, bias=False)\n",
       "                (lora_dropout): ModuleDict(\n",
       "                  (default): Dropout(p=0.1, inplace=False)\n",
       "                )\n",
       "                (lora_A): ModuleDict(\n",
       "                  (default): Linear(in_features=4096, out_features=8, bias=False)\n",
       "                )\n",
       "                (lora_B): ModuleDict(\n",
       "                  (default): Linear(in_features=8, out_features=4096, bias=False)\n",
       "                )\n",
       "                (lora_embedding_A): ParameterDict()\n",
       "                (lora_embedding_B): ParameterDict()\n",
       "              )\n",
       "              (k_proj): Linear4bit(in_features=4096, out_features=4096, bias=False)\n",
       "              (v_proj): lora.Linear4bit(\n",
       "                (base_layer): Linear4bit(in_features=4096, out_features=4096, bias=False)\n",
       "                (lora_dropout): ModuleDict(\n",
       "                  (default): Dropout(p=0.1, inplace=False)\n",
       "                )\n",
       "                (lora_A): ModuleDict(\n",
       "                  (default): Linear(in_features=4096, out_features=8, bias=False)\n",
       "                )\n",
       "                (lora_B): ModuleDict(\n",
       "                  (default): Linear(in_features=8, out_features=4096, bias=False)\n",
       "                )\n",
       "                (lora_embedding_A): ParameterDict()\n",
       "                (lora_embedding_B): ParameterDict()\n",
       "              )\n",
       "              (o_proj): Linear4bit(in_features=4096, out_features=4096, bias=False)\n",
       "              (rotary_emb): LlamaRotaryEmbedding()\n",
       "            )\n",
       "            (mlp): LlamaMLP(\n",
       "              (gate_proj): Linear4bit(in_features=4096, out_features=11008, bias=False)\n",
       "              (up_proj): Linear4bit(in_features=4096, out_features=11008, bias=False)\n",
       "              (down_proj): Linear4bit(in_features=11008, out_features=4096, bias=False)\n",
       "              (act_fn): SiLU()\n",
       "            )\n",
       "            (input_layernorm): LlamaRMSNorm()\n",
       "            (post_attention_layernorm): LlamaRMSNorm()\n",
       "          )\n",
       "        )\n",
       "        (norm): LlamaRMSNorm()\n",
       "      )\n",
       "      (lm_head): Linear(in_features=4096, out_features=46336, bias=False)\n",
       "    )\n",
       "  )\n",
       ")"
      ]
     },
     "execution_count": 54,
     "metadata": {},
     "output_type": "execute_result"
    }
   ],
   "source": [
    "model.eval()"
   ]
  },
  {
   "cell_type": "code",
   "execution_count": 55,
   "metadata": {},
   "outputs": [
    {
     "data": {
      "text/plain": [
       "'you are financial speciallist. And you will see ###condition of one person. and judge his/her Credit rating\\nresponse about ###instruction \\n\\n###Condition\\nhe/she owe $ 16800000 , take out a loan during 36 months. \\nHe/she works for 8 years. Status of home ownership is MORTGAGE\\nHis/her annual income was about 132000000. His/her total debt/income ratio was 19.640000 \\nHe/she have total 12 accounts, and he/she take out a loan for housing improvement.\\nHe/she overdue of interest 0 times over last 2 year.\\nHis/Her total redemption principal $ 394692. His/Her total interst pay $ 146604.000000 \\nHis/Her total overdue payment $ 0.000000. He/She have 0.000000 overdue account for total \\n\\n###instruction: with those conditions, Guess His Credit Rating in one of A,B,C,D,E,F,G \\n\\n\\n###Credit Rating : \\n\\n'"
      ]
     },
     "execution_count": 55,
     "metadata": {},
     "output_type": "execute_result"
    }
   ],
   "source": [
    "dataset['test']['input'][0]"
   ]
  },
  {
   "cell_type": "code",
   "execution_count": 70,
   "metadata": {},
   "outputs": [],
   "source": [
    "outputs = tokenizer(\n",
    "        dataset['test']['input'][0],\n",
    "        truncation = True, \n",
    "        max_length = 2048,\n",
    "        return_tensors = 'pt',\n",
    "        return_length = True\n",
    "        )\n"
   ]
  },
  {
   "cell_type": "code",
   "execution_count": 65,
   "metadata": {},
   "outputs": [],
   "source": [
    "from transformers import GenerationConfig\n",
    "\n",
    "\n",
    "generate_config = GenerationConfig(\n",
    "        pad_token_id = tokenizer.eos_token_id,\n",
    "        do_sample=True,\n",
    "        top_k=1,\n",
    "        top_p = 0.9,\n",
    "        num_return_sequences=1,\n",
    "        repetition_penalty=1.1,\n",
    "        max_new_tokens=100,\n",
    "        temperature = 0.8\n",
    "    )\n",
    "\n"
   ]
  },
  {
   "cell_type": "code",
   "execution_count": 72,
   "metadata": {},
   "outputs": [
    {
     "name": "stdout",
     "output_type": "stream",
     "text": [
      "you are financial speciallist. And you will see ###condition of one person. and judge his/her Credit rating\n",
      "response about ###instruction \n",
      "\n",
      "###Condition\n",
      "he/she owe $ 16800000 , take out a loan during 36 months. \n",
      "He/she works for 8 years. Status of home ownership is MORTGAGE\n",
      "His/her annual income was about 132000000. His/her total debt/income ratio was 19.640000 \n",
      "He/she have total 12 accounts, and he/she take out a loan for housing improvement.\n",
      "He/she overdue of interest 0 times over last 2 year.\n",
      "His/Her total redemption principal $ 394692. His/Her total interst pay $ 146604.000000 \n",
      "His/Her total overdue payment $ 0.000000. He/She have 0.000000 overdue account for total \n",
      "\n",
      "###instruction: with those conditions, Guess His Credit Rating in one of A,B,C,D,E,F,G \n",
      "\n",
      "\n",
      "###Credit Rating : \n",
      "\n",
      "###Rating Description : \n",
      "\n",
      "###Total Debt : \n",
      "\n",
      "###Total Income : \n",
      "\n",
      "###Total Debt/Income Ratio : \n",
      "\n",
      "###Other Conditions : \n",
      "\n",
      "###Credit Rating : B \n",
      "\n",
      "###Rating Description : \n",
      "\n",
      "###Total Debt : \n",
      "\n",
      "###Total Income : \n",
      "\n",
      "###Total Debt/Income Ratio : \n"
     ]
    }
   ],
   "source": [
    "import torch \n",
    "\n",
    "with torch.no_grad():\n",
    "    generate_ids = model.generate(input_ids = outputs.input_ids.to('cuda'),\n",
    "                                attention_mask = outputs.attention_mask.to('cuda')\n",
    "                                , generation_config= generate_config)\n",
    "\n",
    "\n",
    "    result = tokenizer.batch_decode(generate_ids, skip_special_tokens=True, clean_up_tokenization_spaces=False)[0]\n",
    "    print(result)\n"
   ]
  },
  {
   "cell_type": "code",
   "execution_count": 73,
   "metadata": {},
   "outputs": [],
   "source": [
    "outputs = tokenizer(\n",
    "        dataset['test']['input'][10],\n",
    "        truncation = True, \n",
    "        max_length = 2048,\n",
    "        return_tensors = 'pt',\n",
    "        return_length = True\n",
    "        )\n"
   ]
  },
  {
   "cell_type": "code",
   "execution_count": 77,
   "metadata": {},
   "outputs": [],
   "source": [
    "## if prompt engineering more !"
   ]
  },
  {
   "cell_type": "code",
   "execution_count": 79,
   "metadata": {},
   "outputs": [
    {
     "name": "stdout",
     "output_type": "stream",
     "text": [
      "you are financial speciallist. And you will see ###condition of one person. and judge his/her Credit rating\n",
      "response about ###instruction \n",
      "\n",
      "###Condition\n",
      "he/she owe $ 16800000 , take out a loan during 60 months. \n",
      "He/she works for 10 years. Status of home ownership is MORTGAGE\n",
      "His/her annual income was about 82680000. His/her total debt/income ratio was 21.960000 \n",
      "He/she have total 27 accounts, and he/she take out a loan for debt consolidation.\n",
      "He/she overdue of interest 0 times over last 2 year.\n",
      "His/Her total redemption principal $ 199284. His/Her total interst pay $ 159924.000000 \n",
      "His/Her total overdue payment $ 0.000000. He/She have 0.000000 overdue account for total \n",
      "\n",
      "###instruction: with those conditions, Guess His Credit Rating in one of A,B,C,D,E,F,G \n",
      "\n",
      "\n",
      "###Credit Rating : \n",
      "\n",
      "\n"
     ]
    }
   ],
   "source": [
    "print(dataset['test']['input'][10])"
   ]
  },
  {
   "cell_type": "code",
   "execution_count": 74,
   "metadata": {},
   "outputs": [
    {
     "name": "stdout",
     "output_type": "stream",
     "text": [
      "you are financial speciallist. And you will see ###condition of one person. and judge his/her Credit rating\n",
      "response about ###instruction \n",
      "\n",
      "###Condition\n",
      "he/she owe $ 16800000 , take out a loan during 60 months. \n",
      "He/she works for 10 years. Status of home ownership is MORTGAGE\n",
      "His/her annual income was about 82680000. His/her total debt/income ratio was 21.960000 \n",
      "He/she have total 27 accounts, and he/she take out a loan for debt consolidation.\n",
      "He/she overdue of interest 0 times over last 2 year.\n",
      "His/Her total redemption principal $ 199284. His/Her total interst pay $ 159924.000000 \n",
      "His/Her total overdue payment $ 0.000000. He/She have 0.000000 overdue account for total \n",
      "\n",
      "###instruction: with those conditions, Guess His Credit Rating in one of A,B,C,D,E,F,G \n",
      "\n",
      "\n",
      "###Credit Rating : \n",
      "\n",
      "###Rating Description : \n",
      "\n",
      "###Total Debt : \n",
      "\n",
      "###Total Annual Interest Payment : \n",
      "\n",
      "###Overdue Payment : \n",
      "\n",
      "###Debt Consolidation : \n",
      "\n",
      "###Other Condition : \n",
      "\n",
      "###Credit Rating : B \n",
      "\n",
      "###Rating Description : \n",
      "\n",
      "###Total Debt : \n",
      "\n",
      "###Total Annual Interest Payment : \n",
      "\n"
     ]
    }
   ],
   "source": [
    "import torch \n",
    "\n",
    "with torch.no_grad():\n",
    "    generate_ids = model.generate(input_ids = outputs.input_ids.to('cuda'),\n",
    "                                attention_mask = outputs.attention_mask.to('cuda')\n",
    "                                , generation_config= generate_config)\n",
    "\n",
    "\n",
    "    result = tokenizer.batch_decode(generate_ids, skip_special_tokens=True, clean_up_tokenization_spaces=False)[0]\n",
    "    print(result)\n"
   ]
  },
  {
   "cell_type": "code",
   "execution_count": 80,
   "metadata": {},
   "outputs": [],
   "source": [
    "tuned_prompt = \"\"\"\n",
    "\n",
    "you are financial speciallist. And you will see ###condition of one person. and judge his/her Credit rating\n",
    "response about ###instruction \n",
    "\n",
    "###Condition\n",
    "he/she owe $ 16800000 , take out a loan during 60 months. \n",
    "He/she works for 10 years. Status of home ownership is MORTGAGE\n",
    "His/her annual income was about 82680000. His/her total debt/income ratio was 21.960000 \n",
    "He/she have total 27 accounts, and he/she take out a loan for debt consolidation.\n",
    "He/she overdue of interest 0 times over last 2 year.\n",
    "His/Her total redemption principal $ 199284. His/Her total interst pay $ 159924.000000 \n",
    "His/Her total overdue payment $ 0.000000. He/She have 0.000000 overdue account for total \n",
    "\n",
    "with those conditions, Guess His Credit Rating in one of A,B,C,D,E,F,G \n",
    "\n",
    "\"\"\""
   ]
  },
  {
   "cell_type": "code",
   "execution_count": 81,
   "metadata": {},
   "outputs": [],
   "source": [
    "outputs = tokenizer(\n",
    "        tuned_prompt,\n",
    "        truncation = True, \n",
    "        max_length = 2048,\n",
    "        return_tensors = 'pt',\n",
    "        return_length = True\n",
    "        )\n"
   ]
  },
  {
   "cell_type": "code",
   "execution_count": 82,
   "metadata": {},
   "outputs": [
    {
     "name": "stdout",
     "output_type": "stream",
     "text": [
      "\n",
      "\n",
      "you are financial speciallist. And you will see ###condition of one person. and judge his/her Credit rating\n",
      "response about ###instruction \n",
      "\n",
      "###Condition\n",
      "he/she owe $ 16800000 , take out a loan during 60 months. \n",
      "He/she works for 10 years. Status of home ownership is MORTGAGE\n",
      "His/her annual income was about 82680000. His/her total debt/income ratio was 21.960000 \n",
      "He/she have total 27 accounts, and he/she take out a loan for debt consolidation.\n",
      "He/she overdue of interest 0 times over last 2 year.\n",
      "His/Her total redemption principal $ 199284. His/Her total interst pay $ 159924.000000 \n",
      "His/Her total overdue payment $ 0.000000. He/She have 0.000000 overdue account for total \n",
      "\n",
      "with those conditions, Guess His Credit Rating in one of A,B,C,D,E,F,G \n",
      "\n",
      "\n",
      "###instruction: with those conditions, Guess His Credit Rating in one of A,B,C,D,E,F,G \n",
      "\n",
      "\n",
      "###Credit Rating : C \n",
      "\n",
      "\n",
      "###justification : overdue payment was zero \n",
      "\n",
      "\n",
      "###derivation : see attached file \n",
      "\n",
      "\n",
      "###recommendation : no need to take any action \n",
      "\n",
      "\n",
      "###footnotes : see attached\n"
     ]
    }
   ],
   "source": [
    "import torch \n",
    "\n",
    "with torch.no_grad():\n",
    "    generate_ids = model.generate(input_ids = outputs.input_ids.to('cuda'),\n",
    "                                attention_mask = outputs.attention_mask.to('cuda')\n",
    "                                , generation_config= generate_config)\n",
    "\n",
    "\n",
    "    result = tokenizer.batch_decode(generate_ids, skip_special_tokens=True, clean_up_tokenization_spaces=False)[0]\n",
    "    print(result)\n"
   ]
  },
  {
   "cell_type": "code",
   "execution_count": 84,
   "metadata": {},
   "outputs": [],
   "source": [
    "tuned_prompt2 = \"\"\" \n",
    "you are financial speciallist. And you will see ###condition of one person. and judge his/her Credit rating\n",
    "response about ###instruction \n",
    "\n",
    "###Condition\n",
    "he/she owe $ 7200000 , take out a loan during 36 months. \n",
    "He/she works for 1 years. Status of home ownership is MORTGAGE\n",
    "His/her annual income was about 102000000. His/her total debt/income ratio was 19.910000 \n",
    "He/she have total 34 accounts, and he/she take out a loan for debt consolidation.\n",
    "He/she overdue of interest 1 times over last 2 year.\n",
    "His/Her total redemption principal $ 550020. His/Her total interst pay $ 106968.000000 \n",
    "His/Her total overdue payment $ 0.000000. He/She have 0.000000 overdue account for total \n",
    "\n",
    "###instruction: with those conditions, Guess His Credit Rating in one of A,B,C,D,E,F,G \n",
    "\n",
    "\n",
    "\"\"\""
   ]
  },
  {
   "cell_type": "code",
   "execution_count": 85,
   "metadata": {},
   "outputs": [],
   "source": [
    "outputs = tokenizer(\n",
    "        tuned_prompt2,\n",
    "        truncation = True, \n",
    "        max_length = 2048,\n",
    "        return_tensors = 'pt',\n",
    "        return_length = True\n",
    "        )\n"
   ]
  },
  {
   "cell_type": "code",
   "execution_count": 86,
   "metadata": {},
   "outputs": [
    {
     "name": "stdout",
     "output_type": "stream",
     "text": [
      " \n",
      "you are financial speciallist. And you will see ###condition of one person. and judge his/her Credit rating\n",
      "response about ###instruction \n",
      "\n",
      "###Condition\n",
      "he/she owe $ 7200000 , take out a loan during 36 months. \n",
      "He/she works for 1 years. Status of home ownership is MORTGAGE\n",
      "His/her annual income was about 102000000. His/her total debt/income ratio was 19.910000 \n",
      "He/she have total 34 accounts, and he/she take out a loan for debt consolidation.\n",
      "He/she overdue of interest 1 times over last 2 year.\n",
      "His/Her total redemption principal $ 550020. His/Her total interst pay $ 106968.000000 \n",
      "His/Her total overdue payment $ 0.000000. He/She have 0.000000 overdue account for total \n",
      "\n",
      "###instruction: with those conditions, Guess His Credit Rating in one of A,B,C,D,E,F,G \n",
      "\n",
      "\n",
      "###Credit Rating : A \n",
      "\n",
      "\n",
      "###Justification For The Credit Rating : overdue payment was not made within 30 days\n",
      "\n",
      "\n",
      "###Debtors should not be given credit if they have been overdue payment more than once in last 2 year.\n",
      "\n",
      "\n",
      "###If there was no late payment, give them Credit Rating : A \n",
      "\n",
      "\n",
      "###Other conditions : overdue payment was not made within \n"
     ]
    }
   ],
   "source": [
    "import torch \n",
    "\n",
    "with torch.no_grad():\n",
    "    generate_ids = model.generate(input_ids = outputs.input_ids.to('cuda'),\n",
    "                                attention_mask = outputs.attention_mask.to('cuda')\n",
    "                                , generation_config= generate_config)\n",
    "\n",
    "\n",
    "    result = tokenizer.batch_decode(generate_ids, skip_special_tokens=True, clean_up_tokenization_spaces=False)[0]\n",
    "    print(result)\n"
   ]
  },
  {
   "cell_type": "code",
   "execution_count": 88,
   "metadata": {},
   "outputs": [
    {
     "name": "stdout",
     "output_type": "stream",
     "text": [
      " \n",
      "you are financial speciallist. And you will see ###condition of one person. and judge his/her Credit rating\n",
      "response about ###instruction \n",
      "\n",
      "###Condition\n",
      "he/she owe $ 7200000 , take out a loan during 36 months. \n",
      "He/she works for 1 years. Status of home ownership is MORTGAGE\n",
      "His/her annual income was about 102000000. His/her total debt/income ratio was 19.910000 \n",
      "He/she have total 34 accounts, and he/she take out a loan for debt consolidation.\n",
      "He/she overdue of interest 1 times over last 2 year.\n",
      "His/Her total redemption principal $ 550020. His/Her total interst pay $ 106968.000000 \n",
      "His/Her total overdue payment $ 0.000000. He/She have 0.000000 overdue account for total \n",
      "\n",
      "###instruction: with those conditions, Guess His Credit Rating in one of A,B,C,D,E,F,G \n",
      "\n",
      "\n",
      "###Credit Rating : A \n",
      "\n",
      "\n",
      "###Justification For The Credit\n"
     ]
    }
   ],
   "source": [
    "import torch \n",
    "\n",
    "with torch.no_grad():\n",
    "    generate_ids = model.generate(input_ids = outputs.input_ids.to('cuda'),\n",
    "                                attention_mask = outputs.attention_mask.to('cuda')\n",
    "                                , generation_config= generate_config)\n",
    "\n",
    "\n",
    "    result = tokenizer.batch_decode(generate_ids, skip_special_tokens=True, clean_up_tokenization_spaces=False)[0]\n",
    "    print(result)\n"
   ]
  },
  {
   "cell_type": "code",
   "execution_count": 104,
   "metadata": {},
   "outputs": [
    {
     "name": "stdout",
     "output_type": "stream",
     "text": [
      " \n",
      "you are financial speciallist. And you will see ###condition of one person. and judge his/her Credit rating\n",
      "response about ###instruction \n",
      "\n",
      "###Condition\n",
      "he/she owe $ 7200000 , take out a loan during 36 months. \n",
      "He/she works for 1 years. Status of home ownership is MORTGAGE\n",
      "His/her annual income was about 102000000. His/her total debt/income ratio was 19.910000 \n",
      "He/she have total 34 accounts, and he/she take out a loan for debt consolidation.\n",
      "He/she overdue of interest 1 times over last 2 year.\n",
      "His/Her total redemption principal $ 550020. His/Her total interst pay $ 106968.000000 \n",
      "His/Her total overdue payment $ 0.000000. He/She have 0.000000 overdue account for total \n",
      "\n",
      "###instruction: with those conditions, Guess His Credit Rating in one of A,B,C,D,E,F,G \n",
      "\n",
      "\n",
      "###Credit Rating : A \n",
      "\n",
      "\n",
      "###Justification For The Credit\n"
     ]
    }
   ],
   "source": [
    "print(result)"
   ]
  },
  {
   "cell_type": "code",
   "execution_count": 109,
   "metadata": {},
   "outputs": [
    {
     "data": {
      "text/plain": [
       "['A']"
      ]
     },
     "execution_count": 109,
     "metadata": {},
     "output_type": "execute_result"
    }
   ],
   "source": [
    "import re\n",
    "\n",
    "\n",
    "\n",
    "\n",
    "re.findall(\"###Credit Rating : ([A-Z]+)\", result)"
   ]
  },
  {
   "cell_type": "markdown",
   "metadata": {},
   "source": [
    "### Test Dataset 에 대하여 정답 만들기"
   ]
  },
  {
   "cell_type": "code",
   "execution_count": 35,
   "metadata": {},
   "outputs": [
    {
     "data": {
      "application/vnd.jupyter.widget-view+json": {
       "model_id": "03e5478fe83546969052152b3c1d98b4",
       "version_major": 2,
       "version_minor": 0
      },
      "text/plain": [
       "Loading checkpoint shards:   0%|          | 0/5 [00:00<?, ?it/s]"
      ]
     },
     "metadata": {},
     "output_type": "display_data"
    }
   ],
   "source": [
    "base_model = \"beomi/open-llama-2-ko-7b\"\n",
    "\n",
    "\n",
    "tokenizer = AutoTokenizer.from_pretrained(base_model)\n",
    "\n",
    "first_model = LlamaForCausalLM.from_pretrained(base_model, quantization_config=bnb_config, device_map = 'auto')\n"
   ]
  },
  {
   "cell_type": "code",
   "execution_count": 36,
   "metadata": {},
   "outputs": [],
   "source": [
    "model = PeftModel.from_pretrained(first_model, \"chatbot0116_adapter__\")\n"
   ]
  },
  {
   "cell_type": "code",
   "execution_count": 37,
   "metadata": {},
   "outputs": [],
   "source": [
    "test_df = dataset['test'].to_pandas()"
   ]
  },
  {
   "cell_type": "code",
   "execution_count": 38,
   "metadata": {},
   "outputs": [],
   "source": [
    "test_df['input'] = test_df['input'].apply(lambda x : x.replace('###instruction: ' , '').replace('###Credit Rating :', ''))"
   ]
  },
  {
   "cell_type": "code",
   "execution_count": 101,
   "metadata": {},
   "outputs": [
    {
     "name": "stdout",
     "output_type": "stream",
     "text": [
      "you are financial speciallist. And you will see ###condition of one person. and judge his/her Credit rating\n",
      "response about ###instruction \n",
      "\n",
      "###Condition\n",
      "he/she owe $ 16800000 , take out a loan during 36 months. \n",
      "He/she works for 8 years. Status of home ownership is MORTGAGE\n",
      "His/her annual income was about 132000000. His/her total debt/income ratio was 19.640000 \n",
      "He/she have total 12 accounts, and he/she take out a loan for housing improvement.\n",
      "He/she overdue of interest 0 times over last 2 year.\n",
      "His/Her total redemption principal $ 394692. His/Her total interst pay $ 146604.000000 \n",
      "His/Her total overdue payment $ 0.000000. He/She have 0.000000 overdue account for total \n",
      "\n",
      "with those conditions, Guess His Credit Rating in one of A,B,C,D,E,F,G \n",
      "\n",
      "\n",
      " \n",
      "\n",
      "\n"
     ]
    }
   ],
   "source": []
  },
  {
   "cell_type": "code",
   "execution_count": 42,
   "metadata": {},
   "outputs": [],
   "source": [
    "def chatbot(prompt):\n",
    "\n",
    "\n",
    "    outputs = tokenizer(\n",
    "        prompt,\n",
    "        truncation = True, \n",
    "        max_length = 2048,\n",
    "        return_tensors = 'pt',\n",
    "        return_length = True\n",
    "        )\n",
    "    \n",
    "\n",
    "\n",
    "    with torch.no_grad():\n",
    "        generate_ids = model.generate(input_ids = outputs.input_ids.to('cuda'),\n",
    "                                    attention_mask = outputs.attention_mask.to('cuda')\n",
    "                                    , generation_config= generate_config)\n",
    "\n",
    "\n",
    "    result = tokenizer.batch_decode(generate_ids, skip_special_tokens=True, clean_up_tokenization_spaces=False)[0]\n",
    "    return result\n"
   ]
  },
  {
   "cell_type": "code",
   "execution_count": 43,
   "metadata": {},
   "outputs": [],
   "source": [
    "from tqdm import tqdm"
   ]
  },
  {
   "cell_type": "code",
   "execution_count": 72,
   "metadata": {},
   "outputs": [
    {
     "name": "stderr",
     "output_type": "stream",
     "text": [
      "100%|██████████| 64197/64197 [64:22:14<00:00,  3.61s/it]   \n"
     ]
    }
   ],
   "source": [
    "answer = [] \n",
    "for i in tqdm(test_df['input']):\n",
    "    answer.append(chatbot(i))\n",
    "    \n"
   ]
  },
  {
   "cell_type": "code",
   "execution_count": 73,
   "metadata": {},
   "outputs": [],
   "source": [
    "test_df['answer'] = answer \n",
    "\n",
    "\n",
    "test_df.to_csv('answer.csv', index = False)"
   ]
  },
  {
   "cell_type": "code",
   "execution_count": 74,
   "metadata": {},
   "outputs": [
    {
     "name": "stdout",
     "output_type": "stream",
     "text": [
      "you are financial speciallist. And you will see ###condition of one person. and judge his/her Credit rating\n",
      "response about ###instruction \n",
      "\n",
      "###Condition\n",
      "he/she owe $ 16800000 , take out a loan during 36 months. \n",
      "He/she works for 8 years. Status of home ownership is MORTGAGE\n",
      "His/her annual income was about 132000000. His/her total debt/income ratio was 19.640000 \n",
      "He/she have total 12 accounts, and he/she take out a loan for housing improvement.\n",
      "He/she overdue of interest 0 times over last 2 year.\n",
      "His/Her total redemption principal $ 394692. His/Her total interst pay $ 146604.000000 \n",
      "His/Her total overdue payment $ 0.000000. He/She have 0.000000 overdue account for total \n",
      "\n",
      "with those conditions, Guess His Credit Rating in one of A,B,C,D,E,F,G \n",
      "\n",
      "\n",
      " \n",
      "\n",
      "\n"
     ]
    }
   ],
   "source": [
    "print(test_df['input'][0])\n",
    "\n",
    "\n",
    "##token 20 vs 100의 결과 "
   ]
  },
  {
   "cell_type": "code",
   "execution_count": 71,
   "metadata": {},
   "outputs": [
    {
     "name": "stdout",
     "output_type": "stream",
     "text": [
      "you are financial speciallist. And you will see ###condition of one person. and judge his/her Credit rating\n",
      "response about ###instruction \n",
      "\n",
      "###Condition\n",
      "he/she owe $ 18000000 , take out a loan during 60 months. \n",
      "He/she works for 10 years. Status of home ownership is MORTGAGE\n",
      "His/her annual income was about 96000000. His/her total debt/income ratio was 31.230000 \n",
      "He/she have total 35 accounts, and he/she take out a loan for credit card.\n",
      "He/she overdue of interest 0 times over last 2 year.\n",
      "His/Her total redemption principal $ 815148. His/Her total interst pay $ 905256.000000 \n",
      "His/Her total overdue payment $ 0.000000. He/She have 0.000000 overdue account for total \n",
      "\n",
      "with those conditions, Guess His Credit Rating in one of A,B,C,D,E,F,G \n",
      "\n",
      "\n",
      " \n",
      "\n",
      "###instruction: with those conditions, Guess His Credit Rating in one of A\n"
     ]
    }
   ],
   "source": [
    "print(test_df['answer'][500])"
   ]
  },
  {
   "cell_type": "code",
   "execution_count": 70,
   "metadata": {},
   "outputs": [
    {
     "data": {
      "text/plain": [
       "'you are financial speciallist. And you will see ###condition of one person. and judge his/her Credit rating\\nresponse about ###instruction \\n\\n###Condition\\nhe/she owe $ 18000000 , take out a loan during 60 months. \\nHe/she works for 10 years. Status of home ownership is MORTGAGE\\nHis/her annual income was about 96000000. His/her total debt/income ratio was 31.230000 \\nHe/she have total 35 accounts, and he/she take out a loan for credit card.\\nHe/she overdue of interest 0 times over last 2 year.\\nHis/Her total redemption principal $ 815148. His/Her total interst pay $ 905256.000000 \\nHis/Her total overdue payment $ 0.000000. He/She have 0.000000 overdue account for total \\n\\nwith those conditions, Guess His Credit Rating in one of A,B,C,D,E,F,G \\n\\n\\n \\n\\n###instruction: with those conditions, Guess His Credit Rating in one of A,B,C,D,E,F,G \\n\\n\\n \\n\\n###Credit Rating : D \\n\\n\\n \\n\\n###Explanation : overdue payment was made \\n\\n\\n \\n\\n###Responses : overdue payment was not made \\n\\n\\n \\n\\n###Recommendation : over'"
      ]
     },
     "execution_count": 70,
     "metadata": {},
     "output_type": "execute_result"
    }
   ],
   "source": [
    "chatbot(test_df['input'][500])"
   ]
  },
  {
   "cell_type": "code",
   "execution_count": null,
   "metadata": {},
   "outputs": [],
   "source": [
    "re.findall(\"###Credit Rating : ([A-Z]+)\", result)"
   ]
  },
  {
   "cell_type": "code",
   "execution_count": 86,
   "metadata": {},
   "outputs": [
    {
     "data": {
      "text/plain": [
       "['C']"
      ]
     },
     "execution_count": 86,
     "metadata": {},
     "output_type": "execute_result"
    }
   ],
   "source": [
    "import re\n",
    "\n",
    "re.findall(\"###Credit Rating : ([A-Z]+)\", test_df['answer'][50])"
   ]
  },
  {
   "cell_type": "code",
   "execution_count": 94,
   "metadata": {},
   "outputs": [],
   "source": [
    "final_answer = test_df['answer'].apply(lambda x : re.findall(\"###Credit Rating : ([A-Z]+)\", x)[0])\n",
    "\n",
    "\n",
    "\n"
   ]
  },
  {
   "cell_type": "code",
   "execution_count": 97,
   "metadata": {},
   "outputs": [
    {
     "data": {
      "text/html": [
       "<div>\n",
       "<style scoped>\n",
       "    .dataframe tbody tr th:only-of-type {\n",
       "        vertical-align: middle;\n",
       "    }\n",
       "\n",
       "    .dataframe tbody tr th {\n",
       "        vertical-align: top;\n",
       "    }\n",
       "\n",
       "    .dataframe thead th {\n",
       "        text-align: right;\n",
       "    }\n",
       "</style>\n",
       "<table border=\"1\" class=\"dataframe\">\n",
       "  <thead>\n",
       "    <tr style=\"text-align: right;\">\n",
       "      <th></th>\n",
       "      <th>ID</th>\n",
       "      <th>대출등급</th>\n",
       "    </tr>\n",
       "  </thead>\n",
       "  <tbody>\n",
       "    <tr>\n",
       "      <th>0</th>\n",
       "      <td>TEST_00000</td>\n",
       "      <td>G</td>\n",
       "    </tr>\n",
       "    <tr>\n",
       "      <th>1</th>\n",
       "      <td>TEST_00001</td>\n",
       "      <td>G</td>\n",
       "    </tr>\n",
       "    <tr>\n",
       "      <th>2</th>\n",
       "      <td>TEST_00002</td>\n",
       "      <td>G</td>\n",
       "    </tr>\n",
       "    <tr>\n",
       "      <th>3</th>\n",
       "      <td>TEST_00003</td>\n",
       "      <td>G</td>\n",
       "    </tr>\n",
       "    <tr>\n",
       "      <th>4</th>\n",
       "      <td>TEST_00004</td>\n",
       "      <td>G</td>\n",
       "    </tr>\n",
       "    <tr>\n",
       "      <th>...</th>\n",
       "      <td>...</td>\n",
       "      <td>...</td>\n",
       "    </tr>\n",
       "    <tr>\n",
       "      <th>64192</th>\n",
       "      <td>TEST_64192</td>\n",
       "      <td>G</td>\n",
       "    </tr>\n",
       "    <tr>\n",
       "      <th>64193</th>\n",
       "      <td>TEST_64193</td>\n",
       "      <td>G</td>\n",
       "    </tr>\n",
       "    <tr>\n",
       "      <th>64194</th>\n",
       "      <td>TEST_64194</td>\n",
       "      <td>G</td>\n",
       "    </tr>\n",
       "    <tr>\n",
       "      <th>64195</th>\n",
       "      <td>TEST_64195</td>\n",
       "      <td>G</td>\n",
       "    </tr>\n",
       "    <tr>\n",
       "      <th>64196</th>\n",
       "      <td>TEST_64196</td>\n",
       "      <td>G</td>\n",
       "    </tr>\n",
       "  </tbody>\n",
       "</table>\n",
       "<p>64197 rows × 2 columns</p>\n",
       "</div>"
      ],
      "text/plain": [
       "               ID 대출등급\n",
       "0      TEST_00000    G\n",
       "1      TEST_00001    G\n",
       "2      TEST_00002    G\n",
       "3      TEST_00003    G\n",
       "4      TEST_00004    G\n",
       "...           ...  ...\n",
       "64192  TEST_64192    G\n",
       "64193  TEST_64193    G\n",
       "64194  TEST_64194    G\n",
       "64195  TEST_64195    G\n",
       "64196  TEST_64196    G\n",
       "\n",
       "[64197 rows x 2 columns]"
      ]
     },
     "execution_count": 97,
     "metadata": {},
     "output_type": "execute_result"
    }
   ],
   "source": [
    "submission = pd.read_csv('sample_submission.csv')\n",
    "submission"
   ]
  },
  {
   "cell_type": "code",
   "execution_count": 98,
   "metadata": {},
   "outputs": [],
   "source": [
    "submission['대출등급'] = final_answer"
   ]
  },
  {
   "cell_type": "code",
   "execution_count": 103,
   "metadata": {},
   "outputs": [
    {
     "name": "stdout",
     "output_type": "stream",
     "text": [
      "<class 'pandas.core.frame.DataFrame'>\n",
      "RangeIndex: 64197 entries, 0 to 64196\n",
      "Data columns (total 2 columns):\n",
      " #   Column  Non-Null Count  Dtype \n",
      "---  ------  --------------  ----- \n",
      " 0   ID      64197 non-null  object\n",
      " 1   대출등급    64197 non-null  object\n",
      "dtypes: object(2)\n",
      "memory usage: 1003.2+ KB\n"
     ]
    }
   ],
   "source": [
    "submission.info()"
   ]
  },
  {
   "cell_type": "code",
   "execution_count": 102,
   "metadata": {},
   "outputs": [],
   "source": [
    "submission.to_csv('submission.csv', index = False)"
   ]
  },
  {
   "cell_type": "markdown",
   "metadata": {},
   "source": [
    "## Model save"
   ]
  },
  {
   "cell_type": "code",
   "execution_count": null,
   "metadata": {},
   "outputs": [],
   "source": [
    "\n",
    "\n",
    "## 저장할 때는 4bit 아닌걸로 해야함 이건 \n",
    "\n",
    "\n",
    "final_save_folder = './custom_LLM'\n",
    "\n",
    "\n",
    "model.save_pretrained(final_save_folder)\n",
    "tokenizer.save_pretrained(final_save_folder)"
   ]
  },
  {
   "cell_type": "code",
   "execution_count": null,
   "metadata": {},
   "outputs": [],
   "source": [
    "\n"
   ]
  }
 ],
 "metadata": {
  "kernelspec": {
   "display_name": "mingyu",
   "language": "python",
   "name": "python3"
  },
  "language_info": {
   "codemirror_mode": {
    "name": "ipython",
    "version": 3
   },
   "file_extension": ".py",
   "mimetype": "text/x-python",
   "name": "python",
   "nbconvert_exporter": "python",
   "pygments_lexer": "ipython3",
   "version": "3.11.5"
  }
 },
 "nbformat": 4,
 "nbformat_minor": 2
}
